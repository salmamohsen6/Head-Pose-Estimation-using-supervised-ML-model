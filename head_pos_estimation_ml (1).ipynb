{
  "cells": [
    {
      "cell_type": "code",
      "execution_count": 5,
      "id": "e8281ae0",
      "metadata": {
        "id": "e8281ae0"
      },
      "outputs": [],
      "source": [
        "import numpy as np\n",
        "import os\n",
        "import math\n",
        "from math import cos, sin\n",
        "from pathlib import Path\n",
        "import pandas as pd\n",
        "from PIL import Image, ImageFilter\n",
        "import glob\n",
        "from scipy.io import loadmat\n",
        "import cv2"
      ]
    },
    {
      "cell_type": "code",
      "source": [
        "!wget http://www.cbsr.ia.ac.cn/users/xiangyuzhu/projects/3DDFA/Database/AFLW2000-3D.zip \\ -O file.zip"
      ],
      "metadata": {
        "colab": {
          "base_uri": "https://localhost:8080/"
        },
        "id": "BM_LcN0rn0fd",
        "outputId": "9b98b4a5-61d6-45f2-d915-31ed8bf71381"
      },
      "id": "BM_LcN0rn0fd",
      "execution_count": 3,
      "outputs": [
        {
          "output_type": "stream",
          "name": "stdout",
          "text": [
            "--2022-06-17 14:45:51--  http://www.cbsr.ia.ac.cn/users/xiangyuzhu/projects/3DDFA/Database/AFLW2000-3D.zip\n",
            "Resolving www.cbsr.ia.ac.cn (www.cbsr.ia.ac.cn)... 159.226.21.60\n",
            "Connecting to www.cbsr.ia.ac.cn (www.cbsr.ia.ac.cn)|159.226.21.60|:80... connected.\n",
            "HTTP request sent, awaiting response... 200 OK\n",
            "Length: 87413900 (83M) [application/x-zip-compressed]\n",
            "Saving to: ‘AFLW2000-3D.zip’\n",
            "\n",
            "AFLW2000-3D.zip     100%[===================>]  83.36M   278KB/s    in 5m 14s  \n",
            "\n",
            "2022-06-17 14:51:06 (272 KB/s) - ‘AFLW2000-3D.zip’ saved [87413900/87413900]\n",
            "\n",
            "--2022-06-17 14:51:06--  http://%20-o/\n",
            "Resolving  -o ( -o)... failed: Name or service not known.\n",
            "wget: unable to resolve host address ‘ -o’\n",
            "--2022-06-17 14:51:06--  http://file.zip/\n",
            "Resolving file.zip (file.zip)... failed: Name or service not known.\n",
            "wget: unable to resolve host address ‘file.zip’\n",
            "FINISHED --2022-06-17 14:51:06--\n",
            "Total wall clock time: 5m 15s\n",
            "Downloaded: 1 files, 83M in 5m 14s (272 KB/s)\n"
          ]
        }
      ]
    },
    {
      "cell_type": "code",
      "source": [
        "# Loading AFLW2000 Data\n",
        "!unzip /content/AFLW2000-3D.zip"
      ],
      "metadata": {
        "id": "xmyzUkA1QIDs"
      },
      "id": "xmyzUkA1QIDs",
      "execution_count": null,
      "outputs": []
    },
    {
      "cell_type": "code",
      "execution_count": null,
      "id": "9bfce399",
      "metadata": {
        "id": "9bfce399"
      },
      "outputs": [],
      "source": [
        "mat = loadmat(r'/content/AFLW2000/image00004.mat')\n",
        "print(mat)"
      ]
    },
    {
      "cell_type": "code",
      "execution_count": 8,
      "id": "fc4d472f",
      "metadata": {
        "id": "fc4d472f",
        "outputId": "3a56897e-e22c-46e2-88a5-a5a654fc2696",
        "colab": {
          "base_uri": "https://localhost:8080/"
        }
      },
      "outputs": [
        {
          "output_type": "execute_result",
          "data": {
            "text/plain": [
              "dict_keys(['__header__', '__version__', '__globals__', 'pt2d', 'Illum_Para', 'Color_Para', 'Tex_Para', 'Shape_Para', 'Exp_Para', 'Pose_Para', 'roi', 'pt3d_68'])"
            ]
          },
          "metadata": {},
          "execution_count": 8
        }
      ],
      "source": [
        "mat.keys()"
      ]
    },
    {
      "cell_type": "code",
      "execution_count": 9,
      "id": "0e0984bf",
      "metadata": {
        "scrolled": true,
        "id": "0e0984bf",
        "outputId": "f1a6ddf8-7c2c-45fc-88df-3e84179e3360",
        "colab": {
          "base_uri": "https://localhost:8080/"
        }
      },
      "outputs": [
        {
          "output_type": "execute_result",
          "data": {
            "text/plain": [
              "(3, 68)"
            ]
          },
          "metadata": {},
          "execution_count": 9
        }
      ],
      "source": [
        "mat['pt3d_68'].shape"
      ]
    },
    {
      "cell_type": "code",
      "execution_count": 10,
      "id": "c08312e0",
      "metadata": {
        "id": "c08312e0",
        "outputId": "aa3b1386-70b8-4d5a-fc50-5a6664e921f9",
        "colab": {
          "base_uri": "https://localhost:8080/"
        }
      },
      "outputs": [
        {
          "output_type": "execute_result",
          "data": {
            "text/plain": [
              "array([[ 4.7006503e-01,  1.1895334e+00,  3.0095881e-01,  3.3081970e+02,\n",
              "         1.7319424e+02, -4.4367504e+01,  1.1811422e-03]], dtype=float32)"
            ]
          },
          "metadata": {},
          "execution_count": 10
        }
      ],
      "source": [
        "mat['Pose_Para']"
      ]
    },
    {
      "cell_type": "code",
      "execution_count": null,
      "id": "a7c0388a",
      "metadata": {
        "id": "a7c0388a"
      },
      "outputs": [],
      "source": [
        "mat['pt3d_68']"
      ]
    },
    {
      "cell_type": "code",
      "execution_count": 33,
      "id": "6a1321c5",
      "metadata": {
        "id": "6a1321c5"
      },
      "outputs": [],
      "source": [
        "def getx_y (file_path):\n",
        "    mat = loadmat(file_path)\n",
        "    points=mat['pt3d_68'][0:2]\n",
        "    \n",
        "    '''\n",
        "    x = mat['pt3d_68'][:1]\n",
        "    y =mat['pt3d_68'][1:2]\n",
        "    z =mat['pt3d_68'][2:3]\n",
        "    '''\n",
        "    return points"
      ]
    },
    {
      "cell_type": "code",
      "execution_count": 34,
      "id": "93609f54",
      "metadata": {
        "id": "93609f54",
        "outputId": "7b892ed7-136d-4950-b886-76bf2362d90d",
        "colab": {
          "base_uri": "https://localhost:8080/"
        }
      },
      "outputs": [
        {
          "output_type": "execute_result",
          "data": {
            "text/plain": [
              "array([[281.23816, 277.33942, 274.87695, 269.52377, 257.78827, 240.96815,\n",
              "        221.80148, 205.8463 , 207.08545, 226.18564, 254.81445, 282.76337,\n",
              "        306.93597, 322.68658, 331.1619 , 336.49744, 341.28934, 221.99915,\n",
              "        211.36966, 208.55469, 208.92897, 210.88596, 227.24799, 234.27948,\n",
              "        244.74814, 257.117  , 271.07208, 213.09018, 202.01886, 190.40382,\n",
              "        186.15196, 203.62306, 200.27055, 200.16187, 205.58698, 212.63629,\n",
              "        219.60034, 213.51141, 216.28003, 222.67075, 217.18683, 215.85431,\n",
              "        239.99811, 241.14363, 246.22702, 256.14462, 246.85129, 240.27838,\n",
              "        206.68646, 198.77388, 195.23763, 196.5263 , 199.83258, 211.0683 ,\n",
              "        226.80066, 210.58345, 201.24966, 196.73563, 195.09518, 198.44182,\n",
              "        206.93408, 199.80356, 200.1837 , 204.9532 , 225.6643 , 203.54272,\n",
              "        199.18753, 197.53447],\n",
              "       [265.07935, 287.04456, 307.05414, 324.187  , 340.334  , 349.407  ,\n",
              "        350.9306 , 347.8684 , 345.31607, 339.48825, 337.19672, 332.8853 ,\n",
              "        320.77246, 303.62347, 285.63336, 264.43732, 241.10558, 230.35068,\n",
              "        223.74567, 218.01892, 215.55927, 215.79568, 206.4583 , 200.38568,\n",
              "        196.58772, 197.89896, 205.15329, 227.52942, 239.4176 , 250.97882,\n",
              "        262.358  , 279.60168, 278.76868, 278.74243, 276.87555, 275.97034,\n",
              "        239.38724, 235.67358, 234.27505, 235.96869, 238.17326, 240.99927,\n",
              "        228.17395, 220.56982, 219.49728, 224.26132, 227.48782, 228.60468,\n",
              "        311.82416, 302.96582, 294.3194 , 294.10736, 292.55127, 296.56604,\n",
              "        303.56107, 303.8435 , 305.62286, 307.03455, 308.27655, 309.79312,\n",
              "        310.14154, 303.0938 , 300.72446, 300.06097, 303.2609 , 299.48517,\n",
              "        300.5986 , 302.2865 ]], dtype=float32)"
            ]
          },
          "metadata": {},
          "execution_count": 34
        }
      ],
      "source": [
        "getx_y(r'/content/AFLW2000/image00004.mat')\n"
      ]
    },
    {
      "cell_type": "code",
      "execution_count": 35,
      "id": "fca1a0c8",
      "metadata": {
        "id": "fca1a0c8"
      },
      "outputs": [],
      "source": [
        "def getposlabel (file_path):\n",
        "    mat = loadmat(file_path)\n",
        "    pose = mat['Pose_Para'][0][:3]\n",
        "    \n",
        "    '''\n",
        "    x_label = pose[:1]\n",
        "    y_label =pose[1:2]\n",
        "    z_label =pose[2:3]\n",
        "    '''\n",
        "    return pose"
      ]
    },
    {
      "cell_type": "code",
      "execution_count": 36,
      "id": "96eba146",
      "metadata": {
        "id": "96eba146",
        "outputId": "a764cb21-ce5b-4ca5-98ad-e29bb6a453d1",
        "colab": {
          "base_uri": "https://localhost:8080/"
        }
      },
      "outputs": [
        {
          "output_type": "execute_result",
          "data": {
            "text/plain": [
              "array([0.47006503, 1.1895334 , 0.3009588 ], dtype=float32)"
            ]
          },
          "metadata": {},
          "execution_count": 36
        }
      ],
      "source": [
        "getposlabel(r'/content/AFLW2000/image00004.mat')"
      ]
    },
    {
      "cell_type": "code",
      "execution_count": 37,
      "id": "4c96cbec",
      "metadata": {
        "id": "4c96cbec"
      },
      "outputs": [],
      "source": [
        "from os import listdir\n",
        "\n",
        "def list_0f_pathes(file_path):\n",
        "    mylist= [f for f in os.listdir(file_path) if f.endswith('.mat')]\n",
        "    return mylist"
      ]
    },
    {
      "cell_type": "code",
      "execution_count": 39,
      "id": "0f27d25f",
      "metadata": {
        "id": "0f27d25f"
      },
      "outputs": [],
      "source": [
        "def get_features_labels(file_path):\n",
        "    labels=[]\n",
        "    features=[]\n",
        "    mylist=list_0f_pathes(file_path)\n",
        "    \n",
        "    for f in mylist:\n",
        "        path = file_path+f\n",
        "\n",
        "        labels.append(getposlabel(path))\n",
        "        features.append(getx_y(path))\n",
        "    return labels , features"
      ]
    },
    {
      "cell_type": "code",
      "execution_count": 40,
      "id": "965bb33b",
      "metadata": {
        "id": "965bb33b"
      },
      "outputs": [],
      "source": [
        "labels, featues =get_features_labels(r'/content/AFLW2000/')\n"
      ]
    },
    {
      "cell_type": "code",
      "execution_count": 41,
      "id": "ea40b459",
      "metadata": {
        "id": "ea40b459"
      },
      "outputs": [],
      "source": [
        "def img_name(file_path):\n",
        "    img= [f for f in os.listdir(file_path) if f.endswith('.mat')]\n",
        "    img=[i.replace('.mat','') for i in img]\n",
        "\n",
        "    return img"
      ]
    },
    {
      "cell_type": "code",
      "execution_count": 42,
      "id": "cbf03820",
      "metadata": {
        "id": "cbf03820"
      },
      "outputs": [],
      "source": [
        "index=img_name(r'/content/AFLW2000')"
      ]
    },
    {
      "cell_type": "code",
      "execution_count": 43,
      "id": "83db0967",
      "metadata": {
        "id": "83db0967"
      },
      "outputs": [],
      "source": [
        "x_column = ['x' + str(i) for i in range(0,68)]\n",
        "y_column = ['y' + str(i) for i in range(0,68)]\n",
        "#z_column = ['z' + str(i) for i in range(0,68)]\n",
        "\n",
        "x =  [i[0] for i in featues]\n",
        "y =  [i[1] for i in featues]\n",
        "#z =  [i[2] for i in featues]\n",
        "\n",
        "dfx = pd.DataFrame(x, columns = x_column)\n",
        "dfy = pd.DataFrame(y, columns = y_column)\n",
        "#dfz = pd.DataFrame(z, columns = z_column)\n",
        "\n",
        "df_labels = pd.DataFrame (labels , columns = ['pitch', 'yaw', 'roll'])"
      ]
    },
    {
      "cell_type": "code",
      "execution_count": 44,
      "id": "47935c62",
      "metadata": {
        "id": "47935c62"
      },
      "outputs": [],
      "source": [
        "df_features = pd.concat([dfx,dfy], axis=1)\n",
        "df=pd.concat([dfx,dfy,df_labels], axis=1)"
      ]
    },
    {
      "cell_type": "code",
      "execution_count": 45,
      "id": "9874601f",
      "metadata": {
        "id": "9874601f"
      },
      "outputs": [],
      "source": [
        "df_features['index'] = index\n",
        "df_labels['index'] = index\n",
        "df_features = df_features.set_index('index')\n",
        "df_labels = df_labels.set_index('index')"
      ]
    },
    {
      "cell_type": "code",
      "execution_count": 46,
      "id": "eafd238c",
      "metadata": {
        "id": "eafd238c"
      },
      "outputs": [],
      "source": [
        "from sklearn.model_selection import train_test_split\n",
        "X_train, X_test, y_train, y_test = train_test_split(df_features, df_labels, test_size=0.2)"
      ]
    },
    {
      "cell_type": "code",
      "execution_count": 47,
      "id": "3d744ee8",
      "metadata": {
        "id": "3d744ee8",
        "outputId": "f33bb040-3bba-4abf-b029-74f0622787df",
        "colab": {
          "base_uri": "https://localhost:8080/",
          "height": 519
        }
      },
      "outputs": [
        {
          "output_type": "execute_result",
          "data": {
            "text/plain": [
              "                    x0          x1          x2          x3          x4  \\\n",
              "index                                                                    \n",
              "image00392  118.079071  122.504181  125.383766  131.188416  146.092346   \n",
              "image00032  147.385315  143.063782  137.998077  137.558670  144.704132   \n",
              "image00713  151.435928  152.768555  159.093079  162.986267  166.111145   \n",
              "image04161  287.339905  293.237000  299.991058  303.875641  302.763855   \n",
              "image02635  105.226700  107.043846  111.611664  116.958908  126.286842   \n",
              "...                ...         ...         ...         ...         ...   \n",
              "image03703   76.409111   93.178192  112.765045  131.377533  155.166046   \n",
              "image03762  221.754700  220.525146  222.120316  222.511536  220.486450   \n",
              "image04019  215.944183  217.485840  222.244141  224.804169  224.483307   \n",
              "image02069  118.915154  123.823540  131.038361  138.485748  149.135880   \n",
              "image03977  131.530029  135.373749  140.409943  145.074951  151.495544   \n",
              "\n",
              "                    x5          x6          x7          x8          x9  ...  \\\n",
              "index                                                                   ...   \n",
              "image00392  169.909409  198.594910  225.257965  230.216675  209.427856  ...   \n",
              "image00032  160.506271  180.784744  196.830383  200.384430  187.811630  ...   \n",
              "image00713  172.283371  178.266968  192.071304  216.814880  244.857391  ...   \n",
              "image04161  293.917572  280.079224  265.784851  261.302094  269.675171  ...   \n",
              "image02635  143.974548  166.572372  192.635956  218.971237  234.956451  ...   \n",
              "...                ...         ...         ...         ...         ...  ...   \n",
              "image03703  184.105881  211.112854  242.685120  282.474915  313.088348  ...   \n",
              "image03762  217.571381  212.242050  211.050446  224.505585  249.205811  ...   \n",
              "image04019  221.582748  216.068008  215.282974  227.881607  251.183899  ...   \n",
              "image02069  161.405441  174.447479  193.240234  223.058640  254.241547  ...   \n",
              "image03977  163.441864  177.779785  194.508881  222.142090  250.304565  ...   \n",
              "\n",
              "                   y58         y59         y60         y61         y62  \\\n",
              "index                                                                    \n",
              "image00392  309.782501  309.857483  311.646240  308.176758  309.030548   \n",
              "image00032  339.452454  333.172241  325.615601  325.684540  324.110352   \n",
              "image00713  320.853027  313.842529  299.601807  275.869324  273.654541   \n",
              "image04161  309.087646  298.956726  286.858032  292.606049  297.002411   \n",
              "image02635  318.909607  310.197632  295.848633  297.845276  298.352173   \n",
              "...                ...         ...         ...         ...         ...   \n",
              "image03703  336.936371  338.311707  331.230164  312.514954  307.669739   \n",
              "image03762  320.121155  313.412537  305.168701  306.480408  308.022278   \n",
              "image04019  287.338196  290.638733  291.829376  275.993225  271.773468   \n",
              "image02069  335.557678  327.418243  313.159729  312.387177  312.589783   \n",
              "image03977  334.682007  329.585205  315.843842  308.270508  307.175293   \n",
              "\n",
              "                   y63         y64         y65         y66         y67  \n",
              "index                                                                   \n",
              "image00392  310.360229  313.022156  302.758728  301.742981  301.333221  \n",
              "image00032  324.208252  324.898712  327.016724  328.294220  327.821472  \n",
              "image00713  276.197113  303.795471  313.638123  314.514465  312.809143  \n",
              "image04161  300.855957  311.535126  304.652740  300.632568  294.974121  \n",
              "image02635  296.357239  294.022675  307.780334  310.579132  308.797485  \n",
              "...                ...         ...         ...         ...         ...  \n",
              "image03703  302.908569  301.528900  314.465149  320.656250  324.954010  \n",
              "image03762  310.008423  314.491943  313.998199  312.622131  310.211853  \n",
              "image04019  268.936157  271.595642  274.138672  277.629211  281.308441  \n",
              "image02069  313.691467  317.289978  324.065399  324.946533  322.182892  \n",
              "image03977  307.392578  313.551270  322.056793  323.253448  322.695435  \n",
              "\n",
              "[2000 rows x 136 columns]"
            ],
            "text/html": [
              "\n",
              "  <div id=\"df-edc59db8-778c-40e5-b555-ee3edcb45832\">\n",
              "    <div class=\"colab-df-container\">\n",
              "      <div>\n",
              "<style scoped>\n",
              "    .dataframe tbody tr th:only-of-type {\n",
              "        vertical-align: middle;\n",
              "    }\n",
              "\n",
              "    .dataframe tbody tr th {\n",
              "        vertical-align: top;\n",
              "    }\n",
              "\n",
              "    .dataframe thead th {\n",
              "        text-align: right;\n",
              "    }\n",
              "</style>\n",
              "<table border=\"1\" class=\"dataframe\">\n",
              "  <thead>\n",
              "    <tr style=\"text-align: right;\">\n",
              "      <th></th>\n",
              "      <th>x0</th>\n",
              "      <th>x1</th>\n",
              "      <th>x2</th>\n",
              "      <th>x3</th>\n",
              "      <th>x4</th>\n",
              "      <th>x5</th>\n",
              "      <th>x6</th>\n",
              "      <th>x7</th>\n",
              "      <th>x8</th>\n",
              "      <th>x9</th>\n",
              "      <th>...</th>\n",
              "      <th>y58</th>\n",
              "      <th>y59</th>\n",
              "      <th>y60</th>\n",
              "      <th>y61</th>\n",
              "      <th>y62</th>\n",
              "      <th>y63</th>\n",
              "      <th>y64</th>\n",
              "      <th>y65</th>\n",
              "      <th>y66</th>\n",
              "      <th>y67</th>\n",
              "    </tr>\n",
              "    <tr>\n",
              "      <th>index</th>\n",
              "      <th></th>\n",
              "      <th></th>\n",
              "      <th></th>\n",
              "      <th></th>\n",
              "      <th></th>\n",
              "      <th></th>\n",
              "      <th></th>\n",
              "      <th></th>\n",
              "      <th></th>\n",
              "      <th></th>\n",
              "      <th></th>\n",
              "      <th></th>\n",
              "      <th></th>\n",
              "      <th></th>\n",
              "      <th></th>\n",
              "      <th></th>\n",
              "      <th></th>\n",
              "      <th></th>\n",
              "      <th></th>\n",
              "      <th></th>\n",
              "      <th></th>\n",
              "    </tr>\n",
              "  </thead>\n",
              "  <tbody>\n",
              "    <tr>\n",
              "      <th>image00392</th>\n",
              "      <td>118.079071</td>\n",
              "      <td>122.504181</td>\n",
              "      <td>125.383766</td>\n",
              "      <td>131.188416</td>\n",
              "      <td>146.092346</td>\n",
              "      <td>169.909409</td>\n",
              "      <td>198.594910</td>\n",
              "      <td>225.257965</td>\n",
              "      <td>230.216675</td>\n",
              "      <td>209.427856</td>\n",
              "      <td>...</td>\n",
              "      <td>309.782501</td>\n",
              "      <td>309.857483</td>\n",
              "      <td>311.646240</td>\n",
              "      <td>308.176758</td>\n",
              "      <td>309.030548</td>\n",
              "      <td>310.360229</td>\n",
              "      <td>313.022156</td>\n",
              "      <td>302.758728</td>\n",
              "      <td>301.742981</td>\n",
              "      <td>301.333221</td>\n",
              "    </tr>\n",
              "    <tr>\n",
              "      <th>image00032</th>\n",
              "      <td>147.385315</td>\n",
              "      <td>143.063782</td>\n",
              "      <td>137.998077</td>\n",
              "      <td>137.558670</td>\n",
              "      <td>144.704132</td>\n",
              "      <td>160.506271</td>\n",
              "      <td>180.784744</td>\n",
              "      <td>196.830383</td>\n",
              "      <td>200.384430</td>\n",
              "      <td>187.811630</td>\n",
              "      <td>...</td>\n",
              "      <td>339.452454</td>\n",
              "      <td>333.172241</td>\n",
              "      <td>325.615601</td>\n",
              "      <td>325.684540</td>\n",
              "      <td>324.110352</td>\n",
              "      <td>324.208252</td>\n",
              "      <td>324.898712</td>\n",
              "      <td>327.016724</td>\n",
              "      <td>328.294220</td>\n",
              "      <td>327.821472</td>\n",
              "    </tr>\n",
              "    <tr>\n",
              "      <th>image00713</th>\n",
              "      <td>151.435928</td>\n",
              "      <td>152.768555</td>\n",
              "      <td>159.093079</td>\n",
              "      <td>162.986267</td>\n",
              "      <td>166.111145</td>\n",
              "      <td>172.283371</td>\n",
              "      <td>178.266968</td>\n",
              "      <td>192.071304</td>\n",
              "      <td>216.814880</td>\n",
              "      <td>244.857391</td>\n",
              "      <td>...</td>\n",
              "      <td>320.853027</td>\n",
              "      <td>313.842529</td>\n",
              "      <td>299.601807</td>\n",
              "      <td>275.869324</td>\n",
              "      <td>273.654541</td>\n",
              "      <td>276.197113</td>\n",
              "      <td>303.795471</td>\n",
              "      <td>313.638123</td>\n",
              "      <td>314.514465</td>\n",
              "      <td>312.809143</td>\n",
              "    </tr>\n",
              "    <tr>\n",
              "      <th>image04161</th>\n",
              "      <td>287.339905</td>\n",
              "      <td>293.237000</td>\n",
              "      <td>299.991058</td>\n",
              "      <td>303.875641</td>\n",
              "      <td>302.763855</td>\n",
              "      <td>293.917572</td>\n",
              "      <td>280.079224</td>\n",
              "      <td>265.784851</td>\n",
              "      <td>261.302094</td>\n",
              "      <td>269.675171</td>\n",
              "      <td>...</td>\n",
              "      <td>309.087646</td>\n",
              "      <td>298.956726</td>\n",
              "      <td>286.858032</td>\n",
              "      <td>292.606049</td>\n",
              "      <td>297.002411</td>\n",
              "      <td>300.855957</td>\n",
              "      <td>311.535126</td>\n",
              "      <td>304.652740</td>\n",
              "      <td>300.632568</td>\n",
              "      <td>294.974121</td>\n",
              "    </tr>\n",
              "    <tr>\n",
              "      <th>image02635</th>\n",
              "      <td>105.226700</td>\n",
              "      <td>107.043846</td>\n",
              "      <td>111.611664</td>\n",
              "      <td>116.958908</td>\n",
              "      <td>126.286842</td>\n",
              "      <td>143.974548</td>\n",
              "      <td>166.572372</td>\n",
              "      <td>192.635956</td>\n",
              "      <td>218.971237</td>\n",
              "      <td>234.956451</td>\n",
              "      <td>...</td>\n",
              "      <td>318.909607</td>\n",
              "      <td>310.197632</td>\n",
              "      <td>295.848633</td>\n",
              "      <td>297.845276</td>\n",
              "      <td>298.352173</td>\n",
              "      <td>296.357239</td>\n",
              "      <td>294.022675</td>\n",
              "      <td>307.780334</td>\n",
              "      <td>310.579132</td>\n",
              "      <td>308.797485</td>\n",
              "    </tr>\n",
              "    <tr>\n",
              "      <th>...</th>\n",
              "      <td>...</td>\n",
              "      <td>...</td>\n",
              "      <td>...</td>\n",
              "      <td>...</td>\n",
              "      <td>...</td>\n",
              "      <td>...</td>\n",
              "      <td>...</td>\n",
              "      <td>...</td>\n",
              "      <td>...</td>\n",
              "      <td>...</td>\n",
              "      <td>...</td>\n",
              "      <td>...</td>\n",
              "      <td>...</td>\n",
              "      <td>...</td>\n",
              "      <td>...</td>\n",
              "      <td>...</td>\n",
              "      <td>...</td>\n",
              "      <td>...</td>\n",
              "      <td>...</td>\n",
              "      <td>...</td>\n",
              "      <td>...</td>\n",
              "    </tr>\n",
              "    <tr>\n",
              "      <th>image03703</th>\n",
              "      <td>76.409111</td>\n",
              "      <td>93.178192</td>\n",
              "      <td>112.765045</td>\n",
              "      <td>131.377533</td>\n",
              "      <td>155.166046</td>\n",
              "      <td>184.105881</td>\n",
              "      <td>211.112854</td>\n",
              "      <td>242.685120</td>\n",
              "      <td>282.474915</td>\n",
              "      <td>313.088348</td>\n",
              "      <td>...</td>\n",
              "      <td>336.936371</td>\n",
              "      <td>338.311707</td>\n",
              "      <td>331.230164</td>\n",
              "      <td>312.514954</td>\n",
              "      <td>307.669739</td>\n",
              "      <td>302.908569</td>\n",
              "      <td>301.528900</td>\n",
              "      <td>314.465149</td>\n",
              "      <td>320.656250</td>\n",
              "      <td>324.954010</td>\n",
              "    </tr>\n",
              "    <tr>\n",
              "      <th>image03762</th>\n",
              "      <td>221.754700</td>\n",
              "      <td>220.525146</td>\n",
              "      <td>222.120316</td>\n",
              "      <td>222.511536</td>\n",
              "      <td>220.486450</td>\n",
              "      <td>217.571381</td>\n",
              "      <td>212.242050</td>\n",
              "      <td>211.050446</td>\n",
              "      <td>224.505585</td>\n",
              "      <td>249.205811</td>\n",
              "      <td>...</td>\n",
              "      <td>320.121155</td>\n",
              "      <td>313.412537</td>\n",
              "      <td>305.168701</td>\n",
              "      <td>306.480408</td>\n",
              "      <td>308.022278</td>\n",
              "      <td>310.008423</td>\n",
              "      <td>314.491943</td>\n",
              "      <td>313.998199</td>\n",
              "      <td>312.622131</td>\n",
              "      <td>310.211853</td>\n",
              "    </tr>\n",
              "    <tr>\n",
              "      <th>image04019</th>\n",
              "      <td>215.944183</td>\n",
              "      <td>217.485840</td>\n",
              "      <td>222.244141</td>\n",
              "      <td>224.804169</td>\n",
              "      <td>224.483307</td>\n",
              "      <td>221.582748</td>\n",
              "      <td>216.068008</td>\n",
              "      <td>215.282974</td>\n",
              "      <td>227.881607</td>\n",
              "      <td>251.183899</td>\n",
              "      <td>...</td>\n",
              "      <td>287.338196</td>\n",
              "      <td>290.638733</td>\n",
              "      <td>291.829376</td>\n",
              "      <td>275.993225</td>\n",
              "      <td>271.773468</td>\n",
              "      <td>268.936157</td>\n",
              "      <td>271.595642</td>\n",
              "      <td>274.138672</td>\n",
              "      <td>277.629211</td>\n",
              "      <td>281.308441</td>\n",
              "    </tr>\n",
              "    <tr>\n",
              "      <th>image02069</th>\n",
              "      <td>118.915154</td>\n",
              "      <td>123.823540</td>\n",
              "      <td>131.038361</td>\n",
              "      <td>138.485748</td>\n",
              "      <td>149.135880</td>\n",
              "      <td>161.405441</td>\n",
              "      <td>174.447479</td>\n",
              "      <td>193.240234</td>\n",
              "      <td>223.058640</td>\n",
              "      <td>254.241547</td>\n",
              "      <td>...</td>\n",
              "      <td>335.557678</td>\n",
              "      <td>327.418243</td>\n",
              "      <td>313.159729</td>\n",
              "      <td>312.387177</td>\n",
              "      <td>312.589783</td>\n",
              "      <td>313.691467</td>\n",
              "      <td>317.289978</td>\n",
              "      <td>324.065399</td>\n",
              "      <td>324.946533</td>\n",
              "      <td>322.182892</td>\n",
              "    </tr>\n",
              "    <tr>\n",
              "      <th>image03977</th>\n",
              "      <td>131.530029</td>\n",
              "      <td>135.373749</td>\n",
              "      <td>140.409943</td>\n",
              "      <td>145.074951</td>\n",
              "      <td>151.495544</td>\n",
              "      <td>163.441864</td>\n",
              "      <td>177.779785</td>\n",
              "      <td>194.508881</td>\n",
              "      <td>222.142090</td>\n",
              "      <td>250.304565</td>\n",
              "      <td>...</td>\n",
              "      <td>334.682007</td>\n",
              "      <td>329.585205</td>\n",
              "      <td>315.843842</td>\n",
              "      <td>308.270508</td>\n",
              "      <td>307.175293</td>\n",
              "      <td>307.392578</td>\n",
              "      <td>313.551270</td>\n",
              "      <td>322.056793</td>\n",
              "      <td>323.253448</td>\n",
              "      <td>322.695435</td>\n",
              "    </tr>\n",
              "  </tbody>\n",
              "</table>\n",
              "<p>2000 rows × 136 columns</p>\n",
              "</div>\n",
              "      <button class=\"colab-df-convert\" onclick=\"convertToInteractive('df-edc59db8-778c-40e5-b555-ee3edcb45832')\"\n",
              "              title=\"Convert this dataframe to an interactive table.\"\n",
              "              style=\"display:none;\">\n",
              "        \n",
              "  <svg xmlns=\"http://www.w3.org/2000/svg\" height=\"24px\"viewBox=\"0 0 24 24\"\n",
              "       width=\"24px\">\n",
              "    <path d=\"M0 0h24v24H0V0z\" fill=\"none\"/>\n",
              "    <path d=\"M18.56 5.44l.94 2.06.94-2.06 2.06-.94-2.06-.94-.94-2.06-.94 2.06-2.06.94zm-11 1L8.5 8.5l.94-2.06 2.06-.94-2.06-.94L8.5 2.5l-.94 2.06-2.06.94zm10 10l.94 2.06.94-2.06 2.06-.94-2.06-.94-.94-2.06-.94 2.06-2.06.94z\"/><path d=\"M17.41 7.96l-1.37-1.37c-.4-.4-.92-.59-1.43-.59-.52 0-1.04.2-1.43.59L10.3 9.45l-7.72 7.72c-.78.78-.78 2.05 0 2.83L4 21.41c.39.39.9.59 1.41.59.51 0 1.02-.2 1.41-.59l7.78-7.78 2.81-2.81c.8-.78.8-2.07 0-2.86zM5.41 20L4 18.59l7.72-7.72 1.47 1.35L5.41 20z\"/>\n",
              "  </svg>\n",
              "      </button>\n",
              "      \n",
              "  <style>\n",
              "    .colab-df-container {\n",
              "      display:flex;\n",
              "      flex-wrap:wrap;\n",
              "      gap: 12px;\n",
              "    }\n",
              "\n",
              "    .colab-df-convert {\n",
              "      background-color: #E8F0FE;\n",
              "      border: none;\n",
              "      border-radius: 50%;\n",
              "      cursor: pointer;\n",
              "      display: none;\n",
              "      fill: #1967D2;\n",
              "      height: 32px;\n",
              "      padding: 0 0 0 0;\n",
              "      width: 32px;\n",
              "    }\n",
              "\n",
              "    .colab-df-convert:hover {\n",
              "      background-color: #E2EBFA;\n",
              "      box-shadow: 0px 1px 2px rgba(60, 64, 67, 0.3), 0px 1px 3px 1px rgba(60, 64, 67, 0.15);\n",
              "      fill: #174EA6;\n",
              "    }\n",
              "\n",
              "    [theme=dark] .colab-df-convert {\n",
              "      background-color: #3B4455;\n",
              "      fill: #D2E3FC;\n",
              "    }\n",
              "\n",
              "    [theme=dark] .colab-df-convert:hover {\n",
              "      background-color: #434B5C;\n",
              "      box-shadow: 0px 1px 3px 1px rgba(0, 0, 0, 0.15);\n",
              "      filter: drop-shadow(0px 1px 2px rgba(0, 0, 0, 0.3));\n",
              "      fill: #FFFFFF;\n",
              "    }\n",
              "  </style>\n",
              "\n",
              "      <script>\n",
              "        const buttonEl =\n",
              "          document.querySelector('#df-edc59db8-778c-40e5-b555-ee3edcb45832 button.colab-df-convert');\n",
              "        buttonEl.style.display =\n",
              "          google.colab.kernel.accessAllowed ? 'block' : 'none';\n",
              "\n",
              "        async function convertToInteractive(key) {\n",
              "          const element = document.querySelector('#df-edc59db8-778c-40e5-b555-ee3edcb45832');\n",
              "          const dataTable =\n",
              "            await google.colab.kernel.invokeFunction('convertToInteractive',\n",
              "                                                     [key], {});\n",
              "          if (!dataTable) return;\n",
              "\n",
              "          const docLinkHtml = 'Like what you see? Visit the ' +\n",
              "            '<a target=\"_blank\" href=https://colab.research.google.com/notebooks/data_table.ipynb>data table notebook</a>'\n",
              "            + ' to learn more about interactive tables.';\n",
              "          element.innerHTML = '';\n",
              "          dataTable['output_type'] = 'display_data';\n",
              "          await google.colab.output.renderOutput(dataTable, element);\n",
              "          const docLink = document.createElement('div');\n",
              "          docLink.innerHTML = docLinkHtml;\n",
              "          element.appendChild(docLink);\n",
              "        }\n",
              "      </script>\n",
              "    </div>\n",
              "  </div>\n",
              "  "
            ]
          },
          "metadata": {},
          "execution_count": 47
        }
      ],
      "source": [
        "df_features"
      ]
    },
    {
      "cell_type": "code",
      "execution_count": 48,
      "id": "8c4a7b99",
      "metadata": {
        "id": "8c4a7b99"
      },
      "outputs": [],
      "source": [
        "y_train_pitch= y_train['pitch']\n",
        "y_train_yaw= y_train['yaw']\n",
        "y_train_roll= y_train['roll']\n",
        "\n",
        "y_test_pitch= y_test['pitch']\n",
        "y_test_yaw=y_test['yaw']\n",
        "y_test_roll= y_test['roll']"
      ]
    },
    {
      "cell_type": "code",
      "source": [
        "import pandas as pd\n",
        "import xgboost as xgb\n",
        "from sklearn.model_selection import GridSearchCV\n",
        "\n",
        "params = { 'max_depth': [6,8],\n",
        "           'learning_rate': [0.01, 0.05],\n",
        "           'n_estimators': [100, 500]}\n",
        "xgbr = xgb.XGBRegressor(seed = 20)\n",
        "clf = GridSearchCV(estimator=xgbr, \n",
        "                   param_grid=params,\n",
        "                   scoring='neg_mean_squared_error', \n",
        "                   verbose=1)\n",
        "clf.fit(X_train.values,y_train_pitch)\n",
        "print(\"Best parameters:\", clf.best_params_)\n",
        "print(\"Lowest RMSE: \", (-clf.best_score_)**(1/2.0))"
      ],
      "metadata": {
        "colab": {
          "base_uri": "https://localhost:8080/",
          "height": 675
        },
        "id": "PNgeNlr8a-hu",
        "outputId": "9e4bf0a3-60a6-46c6-b63d-e396f6467f92"
      },
      "id": "PNgeNlr8a-hu",
      "execution_count": 49,
      "outputs": [
        {
          "output_type": "stream",
          "name": "stdout",
          "text": [
            "Fitting 5 folds for each of 8 candidates, totalling 40 fits\n",
            "[16:03:39] WARNING: /workspace/src/objective/regression_obj.cu:152: reg:linear is now deprecated in favor of reg:squarederror.\n",
            "[16:03:41] WARNING: /workspace/src/objective/regression_obj.cu:152: reg:linear is now deprecated in favor of reg:squarederror.\n",
            "[16:03:43] WARNING: /workspace/src/objective/regression_obj.cu:152: reg:linear is now deprecated in favor of reg:squarederror.\n",
            "[16:03:44] WARNING: /workspace/src/objective/regression_obj.cu:152: reg:linear is now deprecated in favor of reg:squarederror.\n",
            "[16:03:47] WARNING: /workspace/src/objective/regression_obj.cu:152: reg:linear is now deprecated in favor of reg:squarederror.\n",
            "[16:03:48] WARNING: /workspace/src/objective/regression_obj.cu:152: reg:linear is now deprecated in favor of reg:squarederror.\n",
            "[16:04:04] WARNING: /workspace/src/objective/regression_obj.cu:152: reg:linear is now deprecated in favor of reg:squarederror.\n",
            "[16:04:14] WARNING: /workspace/src/objective/regression_obj.cu:152: reg:linear is now deprecated in favor of reg:squarederror.\n",
            "[16:04:23] WARNING: /workspace/src/objective/regression_obj.cu:152: reg:linear is now deprecated in favor of reg:squarederror.\n",
            "[16:04:33] WARNING: /workspace/src/objective/regression_obj.cu:152: reg:linear is now deprecated in favor of reg:squarederror.\n",
            "[16:04:43] WARNING: /workspace/src/objective/regression_obj.cu:152: reg:linear is now deprecated in favor of reg:squarederror.\n",
            "[16:04:45] WARNING: /workspace/src/objective/regression_obj.cu:152: reg:linear is now deprecated in favor of reg:squarederror.\n",
            "[16:04:48] WARNING: /workspace/src/objective/regression_obj.cu:152: reg:linear is now deprecated in favor of reg:squarederror.\n",
            "[16:04:50] WARNING: /workspace/src/objective/regression_obj.cu:152: reg:linear is now deprecated in favor of reg:squarederror.\n",
            "[16:04:53] WARNING: /workspace/src/objective/regression_obj.cu:152: reg:linear is now deprecated in favor of reg:squarederror.\n",
            "[16:04:55] WARNING: /workspace/src/objective/regression_obj.cu:152: reg:linear is now deprecated in favor of reg:squarederror.\n"
          ]
        },
        {
          "output_type": "error",
          "ename": "KeyboardInterrupt",
          "evalue": "ignored",
          "traceback": [
            "\u001b[0;31m---------------------------------------------------------------------------\u001b[0m",
            "\u001b[0;31mKeyboardInterrupt\u001b[0m                         Traceback (most recent call last)",
            "\u001b[0;32m<ipython-input-49-69f1f8659808>\u001b[0m in \u001b[0;36m<module>\u001b[0;34m()\u001b[0m\n\u001b[1;32m     11\u001b[0m                    \u001b[0mscoring\u001b[0m\u001b[0;34m=\u001b[0m\u001b[0;34m'neg_mean_squared_error'\u001b[0m\u001b[0;34m,\u001b[0m\u001b[0;34m\u001b[0m\u001b[0;34m\u001b[0m\u001b[0m\n\u001b[1;32m     12\u001b[0m                    verbose=1)\n\u001b[0;32m---> 13\u001b[0;31m \u001b[0mclf\u001b[0m\u001b[0;34m.\u001b[0m\u001b[0mfit\u001b[0m\u001b[0;34m(\u001b[0m\u001b[0mX_train\u001b[0m\u001b[0;34m.\u001b[0m\u001b[0mvalues\u001b[0m\u001b[0;34m,\u001b[0m\u001b[0my_train_pitch\u001b[0m\u001b[0;34m)\u001b[0m\u001b[0;34m\u001b[0m\u001b[0;34m\u001b[0m\u001b[0m\n\u001b[0m\u001b[1;32m     14\u001b[0m \u001b[0mprint\u001b[0m\u001b[0;34m(\u001b[0m\u001b[0;34m\"Best parameters:\"\u001b[0m\u001b[0;34m,\u001b[0m \u001b[0mclf\u001b[0m\u001b[0;34m.\u001b[0m\u001b[0mbest_params_\u001b[0m\u001b[0;34m)\u001b[0m\u001b[0;34m\u001b[0m\u001b[0;34m\u001b[0m\u001b[0m\n\u001b[1;32m     15\u001b[0m \u001b[0mprint\u001b[0m\u001b[0;34m(\u001b[0m\u001b[0;34m\"Lowest RMSE: \"\u001b[0m\u001b[0;34m,\u001b[0m \u001b[0;34m(\u001b[0m\u001b[0;34m-\u001b[0m\u001b[0mclf\u001b[0m\u001b[0;34m.\u001b[0m\u001b[0mbest_score_\u001b[0m\u001b[0;34m)\u001b[0m\u001b[0;34m**\u001b[0m\u001b[0;34m(\u001b[0m\u001b[0;36m1\u001b[0m\u001b[0;34m/\u001b[0m\u001b[0;36m2.0\u001b[0m\u001b[0;34m)\u001b[0m\u001b[0;34m)\u001b[0m\u001b[0;34m\u001b[0m\u001b[0;34m\u001b[0m\u001b[0m\n",
            "\u001b[0;32m/usr/local/lib/python3.7/dist-packages/sklearn/model_selection/_search.py\u001b[0m in \u001b[0;36mfit\u001b[0;34m(self, X, y, groups, **fit_params)\u001b[0m\n\u001b[1;32m    889\u001b[0m                 \u001b[0;32mreturn\u001b[0m \u001b[0mresults\u001b[0m\u001b[0;34m\u001b[0m\u001b[0;34m\u001b[0m\u001b[0m\n\u001b[1;32m    890\u001b[0m \u001b[0;34m\u001b[0m\u001b[0m\n\u001b[0;32m--> 891\u001b[0;31m             \u001b[0mself\u001b[0m\u001b[0;34m.\u001b[0m\u001b[0m_run_search\u001b[0m\u001b[0;34m(\u001b[0m\u001b[0mevaluate_candidates\u001b[0m\u001b[0;34m)\u001b[0m\u001b[0;34m\u001b[0m\u001b[0;34m\u001b[0m\u001b[0m\n\u001b[0m\u001b[1;32m    892\u001b[0m \u001b[0;34m\u001b[0m\u001b[0m\n\u001b[1;32m    893\u001b[0m             \u001b[0;31m# multimetric is determined here because in the case of a callable\u001b[0m\u001b[0;34m\u001b[0m\u001b[0;34m\u001b[0m\u001b[0;34m\u001b[0m\u001b[0m\n",
            "\u001b[0;32m/usr/local/lib/python3.7/dist-packages/sklearn/model_selection/_search.py\u001b[0m in \u001b[0;36m_run_search\u001b[0;34m(self, evaluate_candidates)\u001b[0m\n\u001b[1;32m   1390\u001b[0m     \u001b[0;32mdef\u001b[0m \u001b[0m_run_search\u001b[0m\u001b[0;34m(\u001b[0m\u001b[0mself\u001b[0m\u001b[0;34m,\u001b[0m \u001b[0mevaluate_candidates\u001b[0m\u001b[0;34m)\u001b[0m\u001b[0;34m:\u001b[0m\u001b[0;34m\u001b[0m\u001b[0;34m\u001b[0m\u001b[0m\n\u001b[1;32m   1391\u001b[0m         \u001b[0;34m\"\"\"Search all candidates in param_grid\"\"\"\u001b[0m\u001b[0;34m\u001b[0m\u001b[0;34m\u001b[0m\u001b[0m\n\u001b[0;32m-> 1392\u001b[0;31m         \u001b[0mevaluate_candidates\u001b[0m\u001b[0;34m(\u001b[0m\u001b[0mParameterGrid\u001b[0m\u001b[0;34m(\u001b[0m\u001b[0mself\u001b[0m\u001b[0;34m.\u001b[0m\u001b[0mparam_grid\u001b[0m\u001b[0;34m)\u001b[0m\u001b[0;34m)\u001b[0m\u001b[0;34m\u001b[0m\u001b[0;34m\u001b[0m\u001b[0m\n\u001b[0m\u001b[1;32m   1393\u001b[0m \u001b[0;34m\u001b[0m\u001b[0m\n\u001b[1;32m   1394\u001b[0m \u001b[0;34m\u001b[0m\u001b[0m\n",
            "\u001b[0;32m/usr/local/lib/python3.7/dist-packages/sklearn/model_selection/_search.py\u001b[0m in \u001b[0;36mevaluate_candidates\u001b[0;34m(candidate_params, cv, more_results)\u001b[0m\n\u001b[1;32m    849\u001b[0m                     )\n\u001b[1;32m    850\u001b[0m                     for (cand_idx, parameters), (split_idx, (train, test)) in product(\n\u001b[0;32m--> 851\u001b[0;31m                         \u001b[0menumerate\u001b[0m\u001b[0;34m(\u001b[0m\u001b[0mcandidate_params\u001b[0m\u001b[0;34m)\u001b[0m\u001b[0;34m,\u001b[0m \u001b[0menumerate\u001b[0m\u001b[0;34m(\u001b[0m\u001b[0mcv\u001b[0m\u001b[0;34m.\u001b[0m\u001b[0msplit\u001b[0m\u001b[0;34m(\u001b[0m\u001b[0mX\u001b[0m\u001b[0;34m,\u001b[0m \u001b[0my\u001b[0m\u001b[0;34m,\u001b[0m \u001b[0mgroups\u001b[0m\u001b[0;34m)\u001b[0m\u001b[0;34m)\u001b[0m\u001b[0;34m\u001b[0m\u001b[0;34m\u001b[0m\u001b[0m\n\u001b[0m\u001b[1;32m    852\u001b[0m                     )\n\u001b[1;32m    853\u001b[0m                 )\n",
            "\u001b[0;32m/usr/local/lib/python3.7/dist-packages/joblib/parallel.py\u001b[0m in \u001b[0;36m__call__\u001b[0;34m(self, iterable)\u001b[0m\n\u001b[1;32m   1044\u001b[0m                 \u001b[0mself\u001b[0m\u001b[0;34m.\u001b[0m\u001b[0m_iterating\u001b[0m \u001b[0;34m=\u001b[0m \u001b[0mself\u001b[0m\u001b[0;34m.\u001b[0m\u001b[0m_original_iterator\u001b[0m \u001b[0;32mis\u001b[0m \u001b[0;32mnot\u001b[0m \u001b[0;32mNone\u001b[0m\u001b[0;34m\u001b[0m\u001b[0;34m\u001b[0m\u001b[0m\n\u001b[1;32m   1045\u001b[0m \u001b[0;34m\u001b[0m\u001b[0m\n\u001b[0;32m-> 1046\u001b[0;31m             \u001b[0;32mwhile\u001b[0m \u001b[0mself\u001b[0m\u001b[0;34m.\u001b[0m\u001b[0mdispatch_one_batch\u001b[0m\u001b[0;34m(\u001b[0m\u001b[0miterator\u001b[0m\u001b[0;34m)\u001b[0m\u001b[0;34m:\u001b[0m\u001b[0;34m\u001b[0m\u001b[0;34m\u001b[0m\u001b[0m\n\u001b[0m\u001b[1;32m   1047\u001b[0m                 \u001b[0;32mpass\u001b[0m\u001b[0;34m\u001b[0m\u001b[0;34m\u001b[0m\u001b[0m\n\u001b[1;32m   1048\u001b[0m \u001b[0;34m\u001b[0m\u001b[0m\n",
            "\u001b[0;32m/usr/local/lib/python3.7/dist-packages/joblib/parallel.py\u001b[0m in \u001b[0;36mdispatch_one_batch\u001b[0;34m(self, iterator)\u001b[0m\n\u001b[1;32m    859\u001b[0m                 \u001b[0;32mreturn\u001b[0m \u001b[0;32mFalse\u001b[0m\u001b[0;34m\u001b[0m\u001b[0;34m\u001b[0m\u001b[0m\n\u001b[1;32m    860\u001b[0m             \u001b[0;32melse\u001b[0m\u001b[0;34m:\u001b[0m\u001b[0;34m\u001b[0m\u001b[0;34m\u001b[0m\u001b[0m\n\u001b[0;32m--> 861\u001b[0;31m                 \u001b[0mself\u001b[0m\u001b[0;34m.\u001b[0m\u001b[0m_dispatch\u001b[0m\u001b[0;34m(\u001b[0m\u001b[0mtasks\u001b[0m\u001b[0;34m)\u001b[0m\u001b[0;34m\u001b[0m\u001b[0;34m\u001b[0m\u001b[0m\n\u001b[0m\u001b[1;32m    862\u001b[0m                 \u001b[0;32mreturn\u001b[0m \u001b[0;32mTrue\u001b[0m\u001b[0;34m\u001b[0m\u001b[0;34m\u001b[0m\u001b[0m\n\u001b[1;32m    863\u001b[0m \u001b[0;34m\u001b[0m\u001b[0m\n",
            "\u001b[0;32m/usr/local/lib/python3.7/dist-packages/joblib/parallel.py\u001b[0m in \u001b[0;36m_dispatch\u001b[0;34m(self, batch)\u001b[0m\n\u001b[1;32m    777\u001b[0m         \u001b[0;32mwith\u001b[0m \u001b[0mself\u001b[0m\u001b[0;34m.\u001b[0m\u001b[0m_lock\u001b[0m\u001b[0;34m:\u001b[0m\u001b[0;34m\u001b[0m\u001b[0;34m\u001b[0m\u001b[0m\n\u001b[1;32m    778\u001b[0m             \u001b[0mjob_idx\u001b[0m \u001b[0;34m=\u001b[0m \u001b[0mlen\u001b[0m\u001b[0;34m(\u001b[0m\u001b[0mself\u001b[0m\u001b[0;34m.\u001b[0m\u001b[0m_jobs\u001b[0m\u001b[0;34m)\u001b[0m\u001b[0;34m\u001b[0m\u001b[0;34m\u001b[0m\u001b[0m\n\u001b[0;32m--> 779\u001b[0;31m             \u001b[0mjob\u001b[0m \u001b[0;34m=\u001b[0m \u001b[0mself\u001b[0m\u001b[0;34m.\u001b[0m\u001b[0m_backend\u001b[0m\u001b[0;34m.\u001b[0m\u001b[0mapply_async\u001b[0m\u001b[0;34m(\u001b[0m\u001b[0mbatch\u001b[0m\u001b[0;34m,\u001b[0m \u001b[0mcallback\u001b[0m\u001b[0;34m=\u001b[0m\u001b[0mcb\u001b[0m\u001b[0;34m)\u001b[0m\u001b[0;34m\u001b[0m\u001b[0;34m\u001b[0m\u001b[0m\n\u001b[0m\u001b[1;32m    780\u001b[0m             \u001b[0;31m# A job can complete so quickly than its callback is\u001b[0m\u001b[0;34m\u001b[0m\u001b[0;34m\u001b[0m\u001b[0;34m\u001b[0m\u001b[0m\n\u001b[1;32m    781\u001b[0m             \u001b[0;31m# called before we get here, causing self._jobs to\u001b[0m\u001b[0;34m\u001b[0m\u001b[0;34m\u001b[0m\u001b[0;34m\u001b[0m\u001b[0m\n",
            "\u001b[0;32m/usr/local/lib/python3.7/dist-packages/joblib/_parallel_backends.py\u001b[0m in \u001b[0;36mapply_async\u001b[0;34m(self, func, callback)\u001b[0m\n\u001b[1;32m    206\u001b[0m     \u001b[0;32mdef\u001b[0m \u001b[0mapply_async\u001b[0m\u001b[0;34m(\u001b[0m\u001b[0mself\u001b[0m\u001b[0;34m,\u001b[0m \u001b[0mfunc\u001b[0m\u001b[0;34m,\u001b[0m \u001b[0mcallback\u001b[0m\u001b[0;34m=\u001b[0m\u001b[0;32mNone\u001b[0m\u001b[0;34m)\u001b[0m\u001b[0;34m:\u001b[0m\u001b[0;34m\u001b[0m\u001b[0;34m\u001b[0m\u001b[0m\n\u001b[1;32m    207\u001b[0m         \u001b[0;34m\"\"\"Schedule a func to be run\"\"\"\u001b[0m\u001b[0;34m\u001b[0m\u001b[0;34m\u001b[0m\u001b[0m\n\u001b[0;32m--> 208\u001b[0;31m         \u001b[0mresult\u001b[0m \u001b[0;34m=\u001b[0m \u001b[0mImmediateResult\u001b[0m\u001b[0;34m(\u001b[0m\u001b[0mfunc\u001b[0m\u001b[0;34m)\u001b[0m\u001b[0;34m\u001b[0m\u001b[0;34m\u001b[0m\u001b[0m\n\u001b[0m\u001b[1;32m    209\u001b[0m         \u001b[0;32mif\u001b[0m \u001b[0mcallback\u001b[0m\u001b[0;34m:\u001b[0m\u001b[0;34m\u001b[0m\u001b[0;34m\u001b[0m\u001b[0m\n\u001b[1;32m    210\u001b[0m             \u001b[0mcallback\u001b[0m\u001b[0;34m(\u001b[0m\u001b[0mresult\u001b[0m\u001b[0;34m)\u001b[0m\u001b[0;34m\u001b[0m\u001b[0;34m\u001b[0m\u001b[0m\n",
            "\u001b[0;32m/usr/local/lib/python3.7/dist-packages/joblib/_parallel_backends.py\u001b[0m in \u001b[0;36m__init__\u001b[0;34m(self, batch)\u001b[0m\n\u001b[1;32m    570\u001b[0m         \u001b[0;31m# Don't delay the application, to avoid keeping the input\u001b[0m\u001b[0;34m\u001b[0m\u001b[0;34m\u001b[0m\u001b[0;34m\u001b[0m\u001b[0m\n\u001b[1;32m    571\u001b[0m         \u001b[0;31m# arguments in memory\u001b[0m\u001b[0;34m\u001b[0m\u001b[0;34m\u001b[0m\u001b[0;34m\u001b[0m\u001b[0m\n\u001b[0;32m--> 572\u001b[0;31m         \u001b[0mself\u001b[0m\u001b[0;34m.\u001b[0m\u001b[0mresults\u001b[0m \u001b[0;34m=\u001b[0m \u001b[0mbatch\u001b[0m\u001b[0;34m(\u001b[0m\u001b[0;34m)\u001b[0m\u001b[0;34m\u001b[0m\u001b[0;34m\u001b[0m\u001b[0m\n\u001b[0m\u001b[1;32m    573\u001b[0m \u001b[0;34m\u001b[0m\u001b[0m\n\u001b[1;32m    574\u001b[0m     \u001b[0;32mdef\u001b[0m \u001b[0mget\u001b[0m\u001b[0;34m(\u001b[0m\u001b[0mself\u001b[0m\u001b[0;34m)\u001b[0m\u001b[0;34m:\u001b[0m\u001b[0;34m\u001b[0m\u001b[0;34m\u001b[0m\u001b[0m\n",
            "\u001b[0;32m/usr/local/lib/python3.7/dist-packages/joblib/parallel.py\u001b[0m in \u001b[0;36m__call__\u001b[0;34m(self)\u001b[0m\n\u001b[1;32m    261\u001b[0m         \u001b[0;32mwith\u001b[0m \u001b[0mparallel_backend\u001b[0m\u001b[0;34m(\u001b[0m\u001b[0mself\u001b[0m\u001b[0;34m.\u001b[0m\u001b[0m_backend\u001b[0m\u001b[0;34m,\u001b[0m \u001b[0mn_jobs\u001b[0m\u001b[0;34m=\u001b[0m\u001b[0mself\u001b[0m\u001b[0;34m.\u001b[0m\u001b[0m_n_jobs\u001b[0m\u001b[0;34m)\u001b[0m\u001b[0;34m:\u001b[0m\u001b[0;34m\u001b[0m\u001b[0;34m\u001b[0m\u001b[0m\n\u001b[1;32m    262\u001b[0m             return [func(*args, **kwargs)\n\u001b[0;32m--> 263\u001b[0;31m                     for func, args, kwargs in self.items]\n\u001b[0m\u001b[1;32m    264\u001b[0m \u001b[0;34m\u001b[0m\u001b[0m\n\u001b[1;32m    265\u001b[0m     \u001b[0;32mdef\u001b[0m \u001b[0m__reduce__\u001b[0m\u001b[0;34m(\u001b[0m\u001b[0mself\u001b[0m\u001b[0;34m)\u001b[0m\u001b[0;34m:\u001b[0m\u001b[0;34m\u001b[0m\u001b[0;34m\u001b[0m\u001b[0m\n",
            "\u001b[0;32m/usr/local/lib/python3.7/dist-packages/joblib/parallel.py\u001b[0m in \u001b[0;36m<listcomp>\u001b[0;34m(.0)\u001b[0m\n\u001b[1;32m    261\u001b[0m         \u001b[0;32mwith\u001b[0m \u001b[0mparallel_backend\u001b[0m\u001b[0;34m(\u001b[0m\u001b[0mself\u001b[0m\u001b[0;34m.\u001b[0m\u001b[0m_backend\u001b[0m\u001b[0;34m,\u001b[0m \u001b[0mn_jobs\u001b[0m\u001b[0;34m=\u001b[0m\u001b[0mself\u001b[0m\u001b[0;34m.\u001b[0m\u001b[0m_n_jobs\u001b[0m\u001b[0;34m)\u001b[0m\u001b[0;34m:\u001b[0m\u001b[0;34m\u001b[0m\u001b[0;34m\u001b[0m\u001b[0m\n\u001b[1;32m    262\u001b[0m             return [func(*args, **kwargs)\n\u001b[0;32m--> 263\u001b[0;31m                     for func, args, kwargs in self.items]\n\u001b[0m\u001b[1;32m    264\u001b[0m \u001b[0;34m\u001b[0m\u001b[0m\n\u001b[1;32m    265\u001b[0m     \u001b[0;32mdef\u001b[0m \u001b[0m__reduce__\u001b[0m\u001b[0;34m(\u001b[0m\u001b[0mself\u001b[0m\u001b[0;34m)\u001b[0m\u001b[0;34m:\u001b[0m\u001b[0;34m\u001b[0m\u001b[0;34m\u001b[0m\u001b[0m\n",
            "\u001b[0;32m/usr/local/lib/python3.7/dist-packages/sklearn/utils/fixes.py\u001b[0m in \u001b[0;36m__call__\u001b[0;34m(self, *args, **kwargs)\u001b[0m\n\u001b[1;32m    214\u001b[0m     \u001b[0;32mdef\u001b[0m \u001b[0m__call__\u001b[0m\u001b[0;34m(\u001b[0m\u001b[0mself\u001b[0m\u001b[0;34m,\u001b[0m \u001b[0;34m*\u001b[0m\u001b[0margs\u001b[0m\u001b[0;34m,\u001b[0m \u001b[0;34m**\u001b[0m\u001b[0mkwargs\u001b[0m\u001b[0;34m)\u001b[0m\u001b[0;34m:\u001b[0m\u001b[0;34m\u001b[0m\u001b[0;34m\u001b[0m\u001b[0m\n\u001b[1;32m    215\u001b[0m         \u001b[0;32mwith\u001b[0m \u001b[0mconfig_context\u001b[0m\u001b[0;34m(\u001b[0m\u001b[0;34m**\u001b[0m\u001b[0mself\u001b[0m\u001b[0;34m.\u001b[0m\u001b[0mconfig\u001b[0m\u001b[0;34m)\u001b[0m\u001b[0;34m:\u001b[0m\u001b[0;34m\u001b[0m\u001b[0;34m\u001b[0m\u001b[0m\n\u001b[0;32m--> 216\u001b[0;31m             \u001b[0;32mreturn\u001b[0m \u001b[0mself\u001b[0m\u001b[0;34m.\u001b[0m\u001b[0mfunction\u001b[0m\u001b[0;34m(\u001b[0m\u001b[0;34m*\u001b[0m\u001b[0margs\u001b[0m\u001b[0;34m,\u001b[0m \u001b[0;34m**\u001b[0m\u001b[0mkwargs\u001b[0m\u001b[0;34m)\u001b[0m\u001b[0;34m\u001b[0m\u001b[0;34m\u001b[0m\u001b[0m\n\u001b[0m\u001b[1;32m    217\u001b[0m \u001b[0;34m\u001b[0m\u001b[0m\n\u001b[1;32m    218\u001b[0m \u001b[0;34m\u001b[0m\u001b[0m\n",
            "\u001b[0;32m/usr/local/lib/python3.7/dist-packages/sklearn/model_selection/_validation.py\u001b[0m in \u001b[0;36m_fit_and_score\u001b[0;34m(estimator, X, y, scorer, train, test, verbose, parameters, fit_params, return_train_score, return_parameters, return_n_test_samples, return_times, return_estimator, split_progress, candidate_progress, error_score)\u001b[0m\n\u001b[1;32m    678\u001b[0m             \u001b[0mestimator\u001b[0m\u001b[0;34m.\u001b[0m\u001b[0mfit\u001b[0m\u001b[0;34m(\u001b[0m\u001b[0mX_train\u001b[0m\u001b[0;34m,\u001b[0m \u001b[0;34m**\u001b[0m\u001b[0mfit_params\u001b[0m\u001b[0;34m)\u001b[0m\u001b[0;34m\u001b[0m\u001b[0;34m\u001b[0m\u001b[0m\n\u001b[1;32m    679\u001b[0m         \u001b[0;32melse\u001b[0m\u001b[0;34m:\u001b[0m\u001b[0;34m\u001b[0m\u001b[0;34m\u001b[0m\u001b[0m\n\u001b[0;32m--> 680\u001b[0;31m             \u001b[0mestimator\u001b[0m\u001b[0;34m.\u001b[0m\u001b[0mfit\u001b[0m\u001b[0;34m(\u001b[0m\u001b[0mX_train\u001b[0m\u001b[0;34m,\u001b[0m \u001b[0my_train\u001b[0m\u001b[0;34m,\u001b[0m \u001b[0;34m**\u001b[0m\u001b[0mfit_params\u001b[0m\u001b[0;34m)\u001b[0m\u001b[0;34m\u001b[0m\u001b[0;34m\u001b[0m\u001b[0m\n\u001b[0m\u001b[1;32m    681\u001b[0m \u001b[0;34m\u001b[0m\u001b[0m\n\u001b[1;32m    682\u001b[0m     \u001b[0;32mexcept\u001b[0m \u001b[0mException\u001b[0m\u001b[0;34m:\u001b[0m\u001b[0;34m\u001b[0m\u001b[0;34m\u001b[0m\u001b[0m\n",
            "\u001b[0;32m/usr/local/lib/python3.7/dist-packages/xgboost/sklearn.py\u001b[0m in \u001b[0;36mfit\u001b[0;34m(self, X, y, sample_weight, eval_set, eval_metric, early_stopping_rounds, verbose, xgb_model, sample_weight_eval_set, callbacks)\u001b[0m\n\u001b[1;32m    394\u001b[0m                               \u001b[0mevals_result\u001b[0m\u001b[0;34m=\u001b[0m\u001b[0mevals_result\u001b[0m\u001b[0;34m,\u001b[0m \u001b[0mobj\u001b[0m\u001b[0;34m=\u001b[0m\u001b[0mobj\u001b[0m\u001b[0;34m,\u001b[0m \u001b[0mfeval\u001b[0m\u001b[0;34m=\u001b[0m\u001b[0mfeval\u001b[0m\u001b[0;34m,\u001b[0m\u001b[0;34m\u001b[0m\u001b[0;34m\u001b[0m\u001b[0m\n\u001b[1;32m    395\u001b[0m                               \u001b[0mverbose_eval\u001b[0m\u001b[0;34m=\u001b[0m\u001b[0mverbose\u001b[0m\u001b[0;34m,\u001b[0m \u001b[0mxgb_model\u001b[0m\u001b[0;34m=\u001b[0m\u001b[0mxgb_model\u001b[0m\u001b[0;34m,\u001b[0m\u001b[0;34m\u001b[0m\u001b[0;34m\u001b[0m\u001b[0m\n\u001b[0;32m--> 396\u001b[0;31m                               callbacks=callbacks)\n\u001b[0m\u001b[1;32m    397\u001b[0m \u001b[0;34m\u001b[0m\u001b[0m\n\u001b[1;32m    398\u001b[0m         \u001b[0;32mif\u001b[0m \u001b[0mevals_result\u001b[0m\u001b[0;34m:\u001b[0m\u001b[0;34m\u001b[0m\u001b[0;34m\u001b[0m\u001b[0m\n",
            "\u001b[0;32m/usr/local/lib/python3.7/dist-packages/xgboost/training.py\u001b[0m in \u001b[0;36mtrain\u001b[0;34m(params, dtrain, num_boost_round, evals, obj, feval, maximize, early_stopping_rounds, evals_result, verbose_eval, xgb_model, callbacks, learning_rates)\u001b[0m\n\u001b[1;32m    214\u001b[0m                            \u001b[0mevals\u001b[0m\u001b[0;34m=\u001b[0m\u001b[0mevals\u001b[0m\u001b[0;34m,\u001b[0m\u001b[0;34m\u001b[0m\u001b[0;34m\u001b[0m\u001b[0m\n\u001b[1;32m    215\u001b[0m                            \u001b[0mobj\u001b[0m\u001b[0;34m=\u001b[0m\u001b[0mobj\u001b[0m\u001b[0;34m,\u001b[0m \u001b[0mfeval\u001b[0m\u001b[0;34m=\u001b[0m\u001b[0mfeval\u001b[0m\u001b[0;34m,\u001b[0m\u001b[0;34m\u001b[0m\u001b[0;34m\u001b[0m\u001b[0m\n\u001b[0;32m--> 216\u001b[0;31m                            xgb_model=xgb_model, callbacks=callbacks)\n\u001b[0m\u001b[1;32m    217\u001b[0m \u001b[0;34m\u001b[0m\u001b[0m\n\u001b[1;32m    218\u001b[0m \u001b[0;34m\u001b[0m\u001b[0m\n",
            "\u001b[0;32m/usr/local/lib/python3.7/dist-packages/xgboost/training.py\u001b[0m in \u001b[0;36m_train_internal\u001b[0;34m(params, dtrain, num_boost_round, evals, obj, feval, xgb_model, callbacks)\u001b[0m\n\u001b[1;32m     72\u001b[0m         \u001b[0;31m# Skip the first update if it is a recovery step.\u001b[0m\u001b[0;34m\u001b[0m\u001b[0;34m\u001b[0m\u001b[0;34m\u001b[0m\u001b[0m\n\u001b[1;32m     73\u001b[0m         \u001b[0;32mif\u001b[0m \u001b[0mversion\u001b[0m \u001b[0;34m%\u001b[0m \u001b[0;36m2\u001b[0m \u001b[0;34m==\u001b[0m \u001b[0;36m0\u001b[0m\u001b[0;34m:\u001b[0m\u001b[0;34m\u001b[0m\u001b[0;34m\u001b[0m\u001b[0m\n\u001b[0;32m---> 74\u001b[0;31m             \u001b[0mbst\u001b[0m\u001b[0;34m.\u001b[0m\u001b[0mupdate\u001b[0m\u001b[0;34m(\u001b[0m\u001b[0mdtrain\u001b[0m\u001b[0;34m,\u001b[0m \u001b[0mi\u001b[0m\u001b[0;34m,\u001b[0m \u001b[0mobj\u001b[0m\u001b[0;34m)\u001b[0m\u001b[0;34m\u001b[0m\u001b[0;34m\u001b[0m\u001b[0m\n\u001b[0m\u001b[1;32m     75\u001b[0m             \u001b[0mbst\u001b[0m\u001b[0;34m.\u001b[0m\u001b[0msave_rabit_checkpoint\u001b[0m\u001b[0;34m(\u001b[0m\u001b[0;34m)\u001b[0m\u001b[0;34m\u001b[0m\u001b[0;34m\u001b[0m\u001b[0m\n\u001b[1;32m     76\u001b[0m             \u001b[0mversion\u001b[0m \u001b[0;34m+=\u001b[0m \u001b[0;36m1\u001b[0m\u001b[0;34m\u001b[0m\u001b[0;34m\u001b[0m\u001b[0m\n",
            "\u001b[0;32m/usr/local/lib/python3.7/dist-packages/xgboost/core.py\u001b[0m in \u001b[0;36mupdate\u001b[0;34m(self, dtrain, iteration, fobj)\u001b[0m\n\u001b[1;32m   1107\u001b[0m         \u001b[0;32mif\u001b[0m \u001b[0mfobj\u001b[0m \u001b[0;32mis\u001b[0m \u001b[0;32mNone\u001b[0m\u001b[0;34m:\u001b[0m\u001b[0;34m\u001b[0m\u001b[0;34m\u001b[0m\u001b[0m\n\u001b[1;32m   1108\u001b[0m             _check_call(_LIB.XGBoosterUpdateOneIter(self.handle, ctypes.c_int(iteration),\n\u001b[0;32m-> 1109\u001b[0;31m                                                     dtrain.handle))\n\u001b[0m\u001b[1;32m   1110\u001b[0m         \u001b[0;32melse\u001b[0m\u001b[0;34m:\u001b[0m\u001b[0;34m\u001b[0m\u001b[0;34m\u001b[0m\u001b[0m\n\u001b[1;32m   1111\u001b[0m             \u001b[0mpred\u001b[0m \u001b[0;34m=\u001b[0m \u001b[0mself\u001b[0m\u001b[0;34m.\u001b[0m\u001b[0mpredict\u001b[0m\u001b[0;34m(\u001b[0m\u001b[0mdtrain\u001b[0m\u001b[0;34m)\u001b[0m\u001b[0;34m\u001b[0m\u001b[0;34m\u001b[0m\u001b[0m\n",
            "\u001b[0;31mKeyboardInterrupt\u001b[0m: "
          ]
        }
      ]
    },
    {
      "cell_type": "code",
      "source": [
        "import pandas as pd\n",
        "import xgboost as xgb\n",
        "from sklearn.model_selection import GridSearchCV\n",
        "\n",
        "params = { 'max_depth': [6,8],\n",
        "           'learning_rate': [0.01, 0.05],\n",
        "           'n_estimators': [100, 500]}\n",
        "xgbr = xgb.XGBRegressor(seed = 20)\n",
        "clf = GridSearchCV(estimator=xgbr, \n",
        "                   param_grid=params,\n",
        "                   scoring='neg_mean_squared_error', \n",
        "                   verbose=1)\n",
        "clf.fit(X_train.values,y_train_yaw)\n",
        "print(\"Best parameters:\", clf.best_params_)\n",
        "print(\"Lowest RMSE: \", (-clf.best_score_)**(1/2.0))"
      ],
      "metadata": {
        "id": "NLLBcn6ObjsM"
      },
      "id": "NLLBcn6ObjsM",
      "execution_count": null,
      "outputs": []
    },
    {
      "cell_type": "code",
      "source": [
        "import pandas as pd\n",
        "import xgboost as xgb\n",
        "from sklearn.model_selection import GridSearchCV\n",
        "\n",
        "params = { 'max_depth': [6,8],\n",
        "           'learning_rate': [0.01, 0.05],\n",
        "           'n_estimators': [100, 500]}\n",
        "xgbr = xgb.XGBRegressor(seed = 20)\n",
        "clf = GridSearchCV(estimator=xgbr, \n",
        "                   param_grid=params,\n",
        "                   scoring='neg_mean_squared_error', \n",
        "                   verbose=1)\n",
        "clf.fit(X_train.values,y_train_roll)\n",
        "print(\"Best parameters:\", clf.best_params_)\n",
        "print(\"Lowest RMSE: \", (-clf.best_score_)**(1/2.0))"
      ],
      "metadata": {
        "id": "NFI4ugi5bkuR"
      },
      "id": "NFI4ugi5bkuR",
      "execution_count": null,
      "outputs": []
    },
    {
      "cell_type": "code",
      "execution_count": 50,
      "id": "3f2d4ec7",
      "metadata": {
        "id": "3f2d4ec7"
      },
      "outputs": [],
      "source": [
        "from xgboost import XGBRegressor\n",
        "\n",
        "model1 = XGBRegressor(n_estimators=100, learning_rate=0.1, max_depth=5, subsample=0.8, colsample_bytree=0.8, nthread=6 )\n",
        "model2 = XGBRegressor(n_estimators=100, learning_rate=0.1, max_depth=5, subsample=0.8, colsample_bytree=0.8, nthread=6)\n",
        "model3 = XGBRegressor(n_estimators=500, learning_rate=0.05, max_depth=6, subsample=0.8, colsample_bytree=0.8, nthread=6 )"
      ]
    },
    {
      "cell_type": "code",
      "execution_count": 51,
      "id": "87852204",
      "metadata": {
        "scrolled": true,
        "id": "87852204",
        "outputId": "943fbb07-1374-4c63-dd11-1e68bf1f7855",
        "colab": {
          "base_uri": "https://localhost:8080/"
        }
      },
      "outputs": [
        {
          "output_type": "stream",
          "name": "stdout",
          "text": [
            "[16:05:04] WARNING: /workspace/src/objective/regression_obj.cu:152: reg:linear is now deprecated in favor of reg:squarederror.\n",
            "[16:05:06] WARNING: /workspace/src/objective/regression_obj.cu:152: reg:linear is now deprecated in favor of reg:squarederror.\n",
            "[16:05:08] WARNING: /workspace/src/objective/regression_obj.cu:152: reg:linear is now deprecated in favor of reg:squarederror.\n"
          ]
        },
        {
          "output_type": "execute_result",
          "data": {
            "text/plain": [
              "XGBRegressor(colsample_bytree=0.8, learning_rate=0.05, max_depth=6,\n",
              "             n_estimators=500, nthread=6, subsample=0.8)"
            ]
          },
          "metadata": {},
          "execution_count": 51
        }
      ],
      "source": [
        "model1.fit(X_train.values,y_train_pitch)\n",
        "model2.fit(X_train.values,y_train_yaw)\n",
        "model3.fit(X_train.values,y_train_roll)"
      ]
    },
    {
      "cell_type": "code",
      "execution_count": 53,
      "id": "a59f41c1",
      "metadata": {
        "id": "a59f41c1",
        "outputId": "17840af1-760e-4c05-d612-b8a9779351b9",
        "colab": {
          "base_uri": "https://localhost:8080/"
        }
      },
      "outputs": [
        {
          "output_type": "execute_result",
          "data": {
            "text/plain": [
              "['finalized_model3.sav']"
            ]
          },
          "metadata": {},
          "execution_count": 53
        }
      ],
      "source": [
        "#Saving models\n",
        "#https://machinelearningmastery.com/save-load-machine-learning-models-python-scikit-learn/\n",
        "import joblib\n",
        "# save the model to disk\n",
        "filename1 = 'finalized_model1.sav'\n",
        "joblib.dump(model1, filename1)\n",
        "filename2 = 'finalized_model2.sav'\n",
        "joblib.dump(model2, filename2)\n",
        "filename3 = 'finalized_model3.sav'\n",
        "joblib.dump(model3, filename3)"
      ]
    },
    {
      "cell_type": "code",
      "execution_count": 52,
      "id": "0a87a3f1",
      "metadata": {
        "id": "0a87a3f1"
      },
      "outputs": [],
      "source": [
        "pitch_predict =model1.predict(X_test.values)\n",
        "yaw_predict =model2.predict(X_test.values)\n",
        "roll_predict =model3.predict(X_test.values)\n"
      ]
    },
    {
      "cell_type": "code",
      "execution_count": 54,
      "id": "b739b030",
      "metadata": {
        "id": "b739b030"
      },
      "outputs": [],
      "source": [
        "pitch_predict= pd.DataFrame(data = pitch_predict, index=X_test.index)\n",
        "yaw_predict = pd.DataFrame(data = yaw_predict, index=X_test.index)\n",
        "roll_predict = pd.DataFrame(data = roll_predict, index=X_test.index)\n"
      ]
    },
    {
      "cell_type": "code",
      "execution_count": 55,
      "id": "57a4d287",
      "metadata": {
        "scrolled": true,
        "id": "57a4d287",
        "outputId": "b9717c30-1888-43e1-82f4-d8aaa36bd7f3",
        "colab": {
          "base_uri": "https://localhost:8080/",
          "height": 298
        }
      },
      "outputs": [
        {
          "output_type": "display_data",
          "data": {
            "text/plain": [
              "<Figure size 432x288 with 1 Axes>"
            ],
            "image/png": "[encoded data removed]"
          },
          "metadata": {
            "needs_background": "light"
          }
        },
        {
          "output_type": "display_data",
          "data": {
            "text/plain": [
              "<Figure size 10800x7200 with 0 Axes>"
            ]
          },
          "metadata": {}
        }
      ],
      "source": [
        "\n",
        "import matplotlib.pyplot as plt \n",
        "%matplotlib inline\n",
        "\n",
        "plt.plot(y_test_pitch, color = 'red',alpha=0.5)\n",
        "plt.plot(pitch_predict, color = 'blue', alpha=0.5)\n",
        "plt.title('prediction')\n",
        "plt.figure(figsize=(150,100))\n",
        "plt.show()"
      ]
    },
    {
      "cell_type": "code",
      "execution_count": 56,
      "id": "260370a7",
      "metadata": {
        "id": "260370a7",
        "outputId": "a05dc19f-6aed-4e13-b7fc-87e5d4a4e841",
        "colab": {
          "base_uri": "https://localhost:8080/"
        }
      },
      "outputs": [
        {
          "output_type": "stream",
          "name": "stdout",
          "text": [
            "0.7131622667897228\n",
            "0.11157296284503382\n",
            "0.9961369986944341\n"
          ]
        }
      ],
      "source": [
        "from sklearn.metrics import r2_score\n",
        "print(r2_score(y_test_pitch, pitch_predict))\n",
        "print(r2_score(y_test_roll, roll_predict))\n",
        "print(r2_score(y_test_yaw, yaw_predict))\n",
        "\n"
      ]
    },
    {
      "cell_type": "code",
      "execution_count": 57,
      "id": "7fa9d23a",
      "metadata": {
        "id": "7fa9d23a",
        "outputId": "30b53a8e-4eca-41bc-f495-f32785e29ebe",
        "colab": {
          "base_uri": "https://localhost:8080/"
        }
      },
      "outputs": [
        {
          "output_type": "execute_result",
          "data": {
            "text/plain": [
              "index\n",
              "image00545   -0.643371\n",
              "image02085    0.059427\n",
              "image02028    0.162710\n",
              "image02612   -0.176080\n",
              "image02128   -0.151672\n",
              "                ...   \n",
              "image00788   -0.033565\n",
              "image03787    0.059445\n",
              "image03050   -0.201965\n",
              "image00893   -0.066223\n",
              "image00889    0.246211\n",
              "Name: pitch, Length: 400, dtype: float64"
            ]
          },
          "metadata": {},
          "execution_count": 57
        }
      ],
      "source": [
        "y_test_pitch\n"
      ]
    },
    {
      "cell_type": "markdown",
      "id": "0b61888c",
      "metadata": {
        "id": "0b61888c"
      },
      "source": [
        "## Drawing arrows"
      ]
    },
    {
      "cell_type": "code",
      "execution_count": 58,
      "id": "783d0de0",
      "metadata": {
        "id": "783d0de0"
      },
      "outputs": [],
      "source": [
        "def draw_axis(img, yaw, pitch, roll, tdx=None, tdy=None, size = 100):\n",
        "\n",
        "    if tdx != None and tdy != None:\n",
        "        tdx = tdx\n",
        "        tdy = tdy\n",
        "    else:\n",
        "        height, width = img.shape[:2]\n",
        "        tdx = width / 2\n",
        "        tdy = height / 2\n",
        "\n",
        "    # X-Axis pointing to right. drawn in red\n",
        "    x1 = size * (cos(yaw) * cos(roll)) + tdx\n",
        "    y1 = size * (cos(pitch) * sin(roll) + cos(roll) * sin(pitch) * sin(yaw)) + tdy\n",
        "\n",
        "    # Y-Axis | drawn in green\n",
        "    #        v\n",
        "    x2 = size * (-cos(yaw) * sin(roll)) + tdx\n",
        "    y2 = size * (cos(pitch) * cos(roll) - sin(pitch) * sin(yaw) * sin(roll)) + tdy\n",
        "\n",
        "    # Z-Axis (out of the screen) drawn in blue\n",
        "    x3 = size * (sin(yaw)) + tdx\n",
        "    y3 = size * (-cos(yaw) * sin(pitch)) + tdy\n",
        "\n",
        "    cv2.line(img, (int(tdx), int(tdy)), (int(x1),int(y1)),(0,0,255),3)\n",
        "    cv2.line(img, (int(tdx), int(tdy)), (int(x2),int(y2)),(0,255,0),3)\n",
        "    cv2.line(img, (int(tdx), int(tdy)), (int(x3),int(y3)),(255,0,0),2)\n",
        "\n",
        "    return img"
      ]
    },
    {
      "cell_type": "code",
      "source": [
        "def return_img_byname(img_name):\n",
        "  file_path = '/content/AFLW2000/'\n",
        "  image_path = file_path+ img_name+ '.jpg'\n",
        "    \n",
        "  capture = cv2.VideoCapture(image_path)\n",
        "  ret, frame = capture.read()\n",
        "  landmarks= df_features.loc[img_name]\n",
        "  nose_x, nose_y = landmarks['x32'], landmarks['y32']\n",
        "  pitch =pitch_predict.loc[img_name]\n",
        "  yaw =yaw_predict.loc[img_name]\n",
        "  roll= roll_predict.loc[img_name]\n",
        "  capture.release()\n",
        "  cv2.destroyAllWindows()\n",
        "\n",
        "  return frame,pitch,yaw,roll, nose_x, nose_y"
      ],
      "metadata": {
        "id": "T7qjAOi96kz9"
      },
      "id": "T7qjAOi96kz9",
      "execution_count": 59,
      "outputs": []
    },
    {
      "cell_type": "code",
      "execution_count": 60,
      "id": "3eb0e209",
      "metadata": {
        "id": "3eb0e209"
      },
      "outputs": [],
      "source": [
        "def show_image(img,pitch,yaw,roll,nose_x, nose_y):\n",
        "    #file_path = '/content/AFLW2000/'\n",
        "    #image_path = file_path+ img_name+ '.jpg'\n",
        "    \n",
        "    #capture = cv2.VideoCapture(image_path)\n",
        "    #ret, frame = capture.read()\n",
        "    frame = cv2.cvtColor(img, cv2.COLOR_BGR2RGB) # convert to RGB format for matplotlib\n",
        "    \"\"\"\n",
        "    landmarks= df_features.loc[img_name]\n",
        "    pitch =df_labels.loc[img_name]['pitch']\n",
        "    yaw= df_labels.loc[img_name]['yaw']\n",
        "    roll= df_labels.loc[img_name]['roll']\n",
        "    \"\"\"\n",
        "    \"\"\"\n",
        "    landmarks= df_features.loc[img_name]\n",
        "    pitch =pitch_predict.loc[img_name]\n",
        "    yaw =yaw_predict.loc[img_name]\n",
        "    roll= roll_predict.loc[img_name]\n",
        "    \"\"\"\n",
        "    plt.imshow(draw_axis(frame, yaw, pitch, roll, nose_x, nose_y))\n",
        "    plt.show()\n"
      ]
    },
    {
      "cell_type": "code",
      "execution_count": 64,
      "id": "d22978f3",
      "metadata": {
        "scrolled": false,
        "id": "d22978f3",
        "outputId": "0c1bef96-a5bb-4aa5-ab52-9f994e8aa59a",
        "colab": {
          "base_uri": "https://localhost:8080/",
          "height": 269
        }
      },
      "outputs": [
        {
          "output_type": "display_data",
          "data": {
            "text/plain": [
              "<Figure size 432x288 with 1 Axes>"
            ],
            "image/png": "[encoded data removed]"
          },
          "metadata": {
            "needs_background": "light"
          }
        }
      ],
      "source": [
        "frame, pitch, yaw ,roll, nose_x, nose_y = return_img_byname('image00788')\n",
        "show_image(frame,pitch,yaw,roll, nose_x, nose_y)\n"
      ]
    },
    {
      "cell_type": "code",
      "source": [
        "pip install opencv-python\n"
      ],
      "metadata": {
        "colab": {
          "base_uri": "https://localhost:8080/"
        },
        "id": "qw9dYYH4VCis",
        "outputId": "5cb7d9b5-8539-48b8-86be-7610f474c804"
      },
      "id": "qw9dYYH4VCis",
      "execution_count": 62,
      "outputs": [
        {
          "output_type": "stream",
          "name": "stdout",
          "text": [
            "Looking in indexes: https://pypi.org/simple, https://us-python.pkg.dev/colab-wheels/public/simple/\n",
            "Requirement already satisfied: opencv-python in /usr/local/lib/python3.7/dist-packages (4.1.2.30)\n",
            "Requirement already satisfied: numpy>=1.14.5 in /usr/local/lib/python3.7/dist-packages (from opencv-python) (1.21.6)\n"
          ]
        }
      ]
    },
    {
      "cell_type": "code",
      "execution_count": 65,
      "id": "8bf588f8",
      "metadata": {
        "id": "8bf588f8",
        "outputId": "077bb781-37c4-4444-e959-815e5e237dea",
        "colab": {
          "base_uri": "https://localhost:8080/",
          "height": 455
        }
      },
      "outputs": [
        {
          "output_type": "execute_result",
          "data": {
            "text/plain": [
              "                   0\n",
              "index               \n",
              "image00545 -0.661230\n",
              "image02085  0.008286\n",
              "image02028  0.240474\n",
              "image02612 -0.271335\n",
              "image02128 -0.155821\n",
              "...              ...\n",
              "image00788 -0.016951\n",
              "image03787  0.082286\n",
              "image03050 -0.209555\n",
              "image00893 -0.019787\n",
              "image00889  0.310292\n",
              "\n",
              "[400 rows x 1 columns]"
            ],
            "text/html": [
              "\n",
              "  <div id=\"df-c1de68ec-0e19-49ea-b134-fe91ae453394\">\n",
              "    <div class=\"colab-df-container\">\n",
              "      <div>\n",
              "<style scoped>\n",
              "    .dataframe tbody tr th:only-of-type {\n",
              "        vertical-align: middle;\n",
              "    }\n",
              "\n",
              "    .dataframe tbody tr th {\n",
              "        vertical-align: top;\n",
              "    }\n",
              "\n",
              "    .dataframe thead th {\n",
              "        text-align: right;\n",
              "    }\n",
              "</style>\n",
              "<table border=\"1\" class=\"dataframe\">\n",
              "  <thead>\n",
              "    <tr style=\"text-align: right;\">\n",
              "      <th></th>\n",
              "      <th>0</th>\n",
              "    </tr>\n",
              "    <tr>\n",
              "      <th>index</th>\n",
              "      <th></th>\n",
              "    </tr>\n",
              "  </thead>\n",
              "  <tbody>\n",
              "    <tr>\n",
              "      <th>image00545</th>\n",
              "      <td>-0.661230</td>\n",
              "    </tr>\n",
              "    <tr>\n",
              "      <th>image02085</th>\n",
              "      <td>0.008286</td>\n",
              "    </tr>\n",
              "    <tr>\n",
              "      <th>image02028</th>\n",
              "      <td>0.240474</td>\n",
              "    </tr>\n",
              "    <tr>\n",
              "      <th>image02612</th>\n",
              "      <td>-0.271335</td>\n",
              "    </tr>\n",
              "    <tr>\n",
              "      <th>image02128</th>\n",
              "      <td>-0.155821</td>\n",
              "    </tr>\n",
              "    <tr>\n",
              "      <th>...</th>\n",
              "      <td>...</td>\n",
              "    </tr>\n",
              "    <tr>\n",
              "      <th>image00788</th>\n",
              "      <td>-0.016951</td>\n",
              "    </tr>\n",
              "    <tr>\n",
              "      <th>image03787</th>\n",
              "      <td>0.082286</td>\n",
              "    </tr>\n",
              "    <tr>\n",
              "      <th>image03050</th>\n",
              "      <td>-0.209555</td>\n",
              "    </tr>\n",
              "    <tr>\n",
              "      <th>image00893</th>\n",
              "      <td>-0.019787</td>\n",
              "    </tr>\n",
              "    <tr>\n",
              "      <th>image00889</th>\n",
              "      <td>0.310292</td>\n",
              "    </tr>\n",
              "  </tbody>\n",
              "</table>\n",
              "<p>400 rows × 1 columns</p>\n",
              "</div>\n",
              "      <button class=\"colab-df-convert\" onclick=\"convertToInteractive('df-c1de68ec-0e19-49ea-b134-fe91ae453394')\"\n",
              "              title=\"Convert this dataframe to an interactive table.\"\n",
              "              style=\"display:none;\">\n",
              "        \n",
              "  <svg xmlns=\"http://www.w3.org/2000/svg\" height=\"24px\"viewBox=\"0 0 24 24\"\n",
              "       width=\"24px\">\n",
              "    <path d=\"M0 0h24v24H0V0z\" fill=\"none\"/>\n",
              "    <path d=\"M18.56 5.44l.94 2.06.94-2.06 2.06-.94-2.06-.94-.94-2.06-.94 2.06-2.06.94zm-11 1L8.5 8.5l.94-2.06 2.06-.94-2.06-.94L8.5 2.5l-.94 2.06-2.06.94zm10 10l.94 2.06.94-2.06 2.06-.94-2.06-.94-.94-2.06-.94 2.06-2.06.94z\"/><path d=\"M17.41 7.96l-1.37-1.37c-.4-.4-.92-.59-1.43-.59-.52 0-1.04.2-1.43.59L10.3 9.45l-7.72 7.72c-.78.78-.78 2.05 0 2.83L4 21.41c.39.39.9.59 1.41.59.51 0 1.02-.2 1.41-.59l7.78-7.78 2.81-2.81c.8-.78.8-2.07 0-2.86zM5.41 20L4 18.59l7.72-7.72 1.47 1.35L5.41 20z\"/>\n",
              "  </svg>\n",
              "      </button>\n",
              "      \n",
              "  <style>\n",
              "    .colab-df-container {\n",
              "      display:flex;\n",
              "      flex-wrap:wrap;\n",
              "      gap: 12px;\n",
              "    }\n",
              "\n",
              "    .colab-df-convert {\n",
              "      background-color: #E8F0FE;\n",
              "      border: none;\n",
              "      border-radius: 50%;\n",
              "      cursor: pointer;\n",
              "      display: none;\n",
              "      fill: #1967D2;\n",
              "      height: 32px;\n",
              "      padding: 0 0 0 0;\n",
              "      width: 32px;\n",
              "    }\n",
              "\n",
              "    .colab-df-convert:hover {\n",
              "      background-color: #E2EBFA;\n",
              "      box-shadow: 0px 1px 2px rgba(60, 64, 67, 0.3), 0px 1px 3px 1px rgba(60, 64, 67, 0.15);\n",
              "      fill: #174EA6;\n",
              "    }\n",
              "\n",
              "    [theme=dark] .colab-df-convert {\n",
              "      background-color: #3B4455;\n",
              "      fill: #D2E3FC;\n",
              "    }\n",
              "\n",
              "    [theme=dark] .colab-df-convert:hover {\n",
              "      background-color: #434B5C;\n",
              "      box-shadow: 0px 1px 3px 1px rgba(0, 0, 0, 0.15);\n",
              "      filter: drop-shadow(0px 1px 2px rgba(0, 0, 0, 0.3));\n",
              "      fill: #FFFFFF;\n",
              "    }\n",
              "  </style>\n",
              "\n",
              "      <script>\n",
              "        const buttonEl =\n",
              "          document.querySelector('#df-c1de68ec-0e19-49ea-b134-fe91ae453394 button.colab-df-convert');\n",
              "        buttonEl.style.display =\n",
              "          google.colab.kernel.accessAllowed ? 'block' : 'none';\n",
              "\n",
              "        async function convertToInteractive(key) {\n",
              "          const element = document.querySelector('#df-c1de68ec-0e19-49ea-b134-fe91ae453394');\n",
              "          const dataTable =\n",
              "            await google.colab.kernel.invokeFunction('convertToInteractive',\n",
              "                                                     [key], {});\n",
              "          if (!dataTable) return;\n",
              "\n",
              "          const docLinkHtml = 'Like what you see? Visit the ' +\n",
              "            '<a target=\"_blank\" href=https://colab.research.google.com/notebooks/data_table.ipynb>data table notebook</a>'\n",
              "            + ' to learn more about interactive tables.';\n",
              "          element.innerHTML = '';\n",
              "          dataTable['output_type'] = 'display_data';\n",
              "          await google.colab.output.renderOutput(dataTable, element);\n",
              "          const docLink = document.createElement('div');\n",
              "          docLink.innerHTML = docLinkHtml;\n",
              "          element.appendChild(docLink);\n",
              "        }\n",
              "      </script>\n",
              "    </div>\n",
              "  </div>\n",
              "  "
            ]
          },
          "metadata": {},
          "execution_count": 65
        }
      ],
      "source": [
        "pitch_predict"
      ]
    },
    {
      "cell_type": "markdown",
      "source": [
        "# detecting  face landmarks "
      ],
      "metadata": {
        "id": "stnjqJp8rYi4"
      },
      "id": "stnjqJp8rYi4"
    },
    {
      "cell_type": "code",
      "execution_count": 66,
      "id": "0c8b5668",
      "metadata": {
        "id": "0c8b5668",
        "outputId": "162d8938-13df-40d9-b194-e352465342fc",
        "colab": {
          "base_uri": "https://localhost:8080/"
        }
      },
      "outputs": [
        {
          "output_type": "stream",
          "name": "stdout",
          "text": [
            "Looking in indexes: https://pypi.org/simple, https://us-python.pkg.dev/colab-wheels/public/simple/\n",
            "Requirement already satisfied: imutils in /usr/local/lib/python3.7/dist-packages (0.5.4)\n"
          ]
        }
      ],
      "source": [
        "pip install imutils"
      ]
    },
    {
      "cell_type": "code",
      "source": [
        "pip install cmake\n"
      ],
      "metadata": {
        "colab": {
          "base_uri": "https://localhost:8080/"
        },
        "id": "2sCErWgwpCgp",
        "outputId": "b578b5d3-d459-44bf-97dc-202d5f006cfd"
      },
      "id": "2sCErWgwpCgp",
      "execution_count": 67,
      "outputs": [
        {
          "output_type": "stream",
          "name": "stdout",
          "text": [
            "Looking in indexes: https://pypi.org/simple, https://us-python.pkg.dev/colab-wheels/public/simple/\n",
            "Requirement already satisfied: cmake in /usr/local/lib/python3.7/dist-packages (3.22.5)\n"
          ]
        }
      ]
    },
    {
      "cell_type": "code",
      "source": [
        "pip install dlib"
      ],
      "metadata": {
        "id": "FF--xqRFpC9S"
      },
      "id": "FF--xqRFpC9S",
      "execution_count": null,
      "outputs": []
    },
    {
      "cell_type": "code",
      "source": [
        "!wget http://dlib.net/files/shape_predictor_68_face_landmarks.dat.bz2\n",
        "!bunzip2 /content/shape_predictor_68_face_landmarks.dat.bz2"
      ],
      "metadata": {
        "colab": {
          "base_uri": "https://localhost:8080/"
        },
        "id": "bScyz43Xod3Y",
        "outputId": "9d7ace5a-81e4-49e8-9bc0-84b20a759979"
      },
      "id": "bScyz43Xod3Y",
      "execution_count": 68,
      "outputs": [
        {
          "output_type": "stream",
          "name": "stdout",
          "text": [
            "--2022-06-17 16:07:08--  http://dlib.net/files/shape_predictor_68_face_landmarks.dat.bz2\n",
            "Resolving dlib.net (dlib.net)... 107.180.26.78\n",
            "Connecting to dlib.net (dlib.net)|107.180.26.78|:80... connected.\n",
            "HTTP request sent, awaiting response... 200 OK\n",
            "Length: 64040097 (61M)\n",
            "Saving to: ‘shape_predictor_68_face_landmarks.dat.bz2’\n",
            "\n",
            "shape_predictor_68_ 100%[===================>]  61.07M  63.4MB/s    in 1.0s    \n",
            "\n",
            "2022-06-17 16:07:09 (63.4 MB/s) - ‘shape_predictor_68_face_landmarks.dat.bz2’ saved [64040097/64040097]\n",
            "\n",
            "bunzip2: Output file /content/shape_predictor_68_face_landmarks.dat already exists.\n"
          ]
        }
      ]
    },
    {
      "cell_type": "code",
      "execution_count": 69,
      "metadata": {
        "outputId": "69198aa0-9380-495b-ae13-8ac3a471ebc6",
        "colab": {
          "base_uri": "https://localhost:8080/"
        },
        "id": "7SV79BuxsN2R"
      },
      "outputs": [
        {
          "output_type": "stream",
          "name": "stdout",
          "text": [
            "Populating the interactive namespace from numpy and matplotlib\n"
          ]
        },
        {
          "output_type": "stream",
          "name": "stderr",
          "text": [
            "/usr/local/lib/python3.7/dist-packages/IPython/core/magics/pylab.py:161: UserWarning: pylab import has clobbered these variables: ['roll', 'sin', 'clf', 'cos', 'mat']\n",
            "`%matplotlib` prevents importing * from pylab and numpy\n",
            "  \"\\n`%matplotlib` prevents importing * from pylab and numpy\"\n"
          ]
        }
      ],
      "source": [
        "%pylab inline\n",
        "from IPython.display import clear_output\n",
        "from imutils import face_utils\n",
        "import dlib\n",
        "import cv2"
      ],
      "id": "7SV79BuxsN2R"
    },
    {
      "cell_type": "code",
      "source": [
        "def detect_landmarks(img):\n",
        "  # get landmarks from dlib\n",
        "  p = \"/content/shape_predictor_68_face_landmarks.dat\"\n",
        "  detector = dlib.get_frontal_face_detector()\n",
        "  predictor = dlib.shape_predictor(p)\n",
        "  frame_count = 0\n",
        "  #path = '/content/AFLW2000/image00014.jpg'\n",
        "  #img = dlib.load_rgb_image(path)\n",
        "  dets = detector(img, 1)\n",
        "  landmarks = np.zeros((2, 68), dtype=int)\n",
        "\n",
        "  print(\"Number of faces detected: {}\".format(len(dets)))\n",
        "  for k, d in enumerate(dets):\n",
        "      # Get the landmarks/parts for the face in box d.\n",
        "      shape = predictor(img, d)\n",
        "      \n",
        "      shape = face_utils.shape_to_np(shape)\n",
        "      #print(shape.shape)\n",
        "      shape=shape.T\n",
        "      x=shape[0].reshape(1, -1)\n",
        "      y=shape[1].reshape(1, -1)\n",
        "      xd = pd.DataFrame(x, columns = x_column)\n",
        "      yd = pd.DataFrame(y, columns = y_column)\n",
        "      landmarks = pd.concat([xd,yd], axis=1)\n",
        "\n",
        "      #print(x.shape)\n",
        "\n",
        "      return landmarks"
      ],
      "metadata": {
        "id": "POmFSaGpqVP_"
      },
      "id": "POmFSaGpqVP_",
      "execution_count": 70,
      "outputs": []
    },
    {
      "cell_type": "code",
      "source": [
        "path = '/content/AFLW2000/image00014.jpg'\n",
        "img = dlib.load_rgb_image(path)\n",
        "\n",
        "\n",
        "marks = detect_landmarks(img)\n",
        "\n",
        "marks\n"
      ],
      "metadata": {
        "colab": {
          "base_uri": "https://localhost:8080/",
          "height": 127
        },
        "id": "Qxr0vGD6qrOq",
        "outputId": "06ad455c-06d1-44cb-b558-3b5d4ddf07c3"
      },
      "id": "Qxr0vGD6qrOq",
      "execution_count": 71,
      "outputs": [
        {
          "output_type": "stream",
          "name": "stdout",
          "text": [
            "Number of faces detected: 1\n"
          ]
        },
        {
          "output_type": "execute_result",
          "data": {
            "text/plain": [
              "    x0   x1   x2   x3   x4   x5   x6   x7   x8   x9  ...  y58  y59  y60  y61  \\\n",
              "0  125  127  132  138  146  160  179  203  234  265  ...  349  349  347  338   \n",
              "\n",
              "   y62  y63  y64  y65  y66  y67  \n",
              "0  338  338  344  337  337  337  \n",
              "\n",
              "[1 rows x 136 columns]"
            ],
            "text/html": [
              "\n",
              "  <div id=\"df-eba7efde-4d95-4bfc-a047-76186c380f4b\">\n",
              "    <div class=\"colab-df-container\">\n",
              "      <div>\n",
              "<style scoped>\n",
              "    .dataframe tbody tr th:only-of-type {\n",
              "        vertical-align: middle;\n",
              "    }\n",
              "\n",
              "    .dataframe tbody tr th {\n",
              "        vertical-align: top;\n",
              "    }\n",
              "\n",
              "    .dataframe thead th {\n",
              "        text-align: right;\n",
              "    }\n",
              "</style>\n",
              "<table border=\"1\" class=\"dataframe\">\n",
              "  <thead>\n",
              "    <tr style=\"text-align: right;\">\n",
              "      <th></th>\n",
              "      <th>x0</th>\n",
              "      <th>x1</th>\n",
              "      <th>x2</th>\n",
              "      <th>x3</th>\n",
              "      <th>x4</th>\n",
              "      <th>x5</th>\n",
              "      <th>x6</th>\n",
              "      <th>x7</th>\n",
              "      <th>x8</th>\n",
              "      <th>x9</th>\n",
              "      <th>...</th>\n",
              "      <th>y58</th>\n",
              "      <th>y59</th>\n",
              "      <th>y60</th>\n",
              "      <th>y61</th>\n",
              "      <th>y62</th>\n",
              "      <th>y63</th>\n",
              "      <th>y64</th>\n",
              "      <th>y65</th>\n",
              "      <th>y66</th>\n",
              "      <th>y67</th>\n",
              "    </tr>\n",
              "  </thead>\n",
              "  <tbody>\n",
              "    <tr>\n",
              "      <th>0</th>\n",
              "      <td>125</td>\n",
              "      <td>127</td>\n",
              "      <td>132</td>\n",
              "      <td>138</td>\n",
              "      <td>146</td>\n",
              "      <td>160</td>\n",
              "      <td>179</td>\n",
              "      <td>203</td>\n",
              "      <td>234</td>\n",
              "      <td>265</td>\n",
              "      <td>...</td>\n",
              "      <td>349</td>\n",
              "      <td>349</td>\n",
              "      <td>347</td>\n",
              "      <td>338</td>\n",
              "      <td>338</td>\n",
              "      <td>338</td>\n",
              "      <td>344</td>\n",
              "      <td>337</td>\n",
              "      <td>337</td>\n",
              "      <td>337</td>\n",
              "    </tr>\n",
              "  </tbody>\n",
              "</table>\n",
              "<p>1 rows × 136 columns</p>\n",
              "</div>\n",
              "      <button class=\"colab-df-convert\" onclick=\"convertToInteractive('df-eba7efde-4d95-4bfc-a047-76186c380f4b')\"\n",
              "              title=\"Convert this dataframe to an interactive table.\"\n",
              "              style=\"display:none;\">\n",
              "        \n",
              "  <svg xmlns=\"http://www.w3.org/2000/svg\" height=\"24px\"viewBox=\"0 0 24 24\"\n",
              "       width=\"24px\">\n",
              "    <path d=\"M0 0h24v24H0V0z\" fill=\"none\"/>\n",
              "    <path d=\"M18.56 5.44l.94 2.06.94-2.06 2.06-.94-2.06-.94-.94-2.06-.94 2.06-2.06.94zm-11 1L8.5 8.5l.94-2.06 2.06-.94-2.06-.94L8.5 2.5l-.94 2.06-2.06.94zm10 10l.94 2.06.94-2.06 2.06-.94-2.06-.94-.94-2.06-.94 2.06-2.06.94z\"/><path d=\"M17.41 7.96l-1.37-1.37c-.4-.4-.92-.59-1.43-.59-.52 0-1.04.2-1.43.59L10.3 9.45l-7.72 7.72c-.78.78-.78 2.05 0 2.83L4 21.41c.39.39.9.59 1.41.59.51 0 1.02-.2 1.41-.59l7.78-7.78 2.81-2.81c.8-.78.8-2.07 0-2.86zM5.41 20L4 18.59l7.72-7.72 1.47 1.35L5.41 20z\"/>\n",
              "  </svg>\n",
              "      </button>\n",
              "      \n",
              "  <style>\n",
              "    .colab-df-container {\n",
              "      display:flex;\n",
              "      flex-wrap:wrap;\n",
              "      gap: 12px;\n",
              "    }\n",
              "\n",
              "    .colab-df-convert {\n",
              "      background-color: #E8F0FE;\n",
              "      border: none;\n",
              "      border-radius: 50%;\n",
              "      cursor: pointer;\n",
              "      display: none;\n",
              "      fill: #1967D2;\n",
              "      height: 32px;\n",
              "      padding: 0 0 0 0;\n",
              "      width: 32px;\n",
              "    }\n",
              "\n",
              "    .colab-df-convert:hover {\n",
              "      background-color: #E2EBFA;\n",
              "      box-shadow: 0px 1px 2px rgba(60, 64, 67, 0.3), 0px 1px 3px 1px rgba(60, 64, 67, 0.15);\n",
              "      fill: #174EA6;\n",
              "    }\n",
              "\n",
              "    [theme=dark] .colab-df-convert {\n",
              "      background-color: #3B4455;\n",
              "      fill: #D2E3FC;\n",
              "    }\n",
              "\n",
              "    [theme=dark] .colab-df-convert:hover {\n",
              "      background-color: #434B5C;\n",
              "      box-shadow: 0px 1px 3px 1px rgba(0, 0, 0, 0.15);\n",
              "      filter: drop-shadow(0px 1px 2px rgba(0, 0, 0, 0.3));\n",
              "      fill: #FFFFFF;\n",
              "    }\n",
              "  </style>\n",
              "\n",
              "      <script>\n",
              "        const buttonEl =\n",
              "          document.querySelector('#df-eba7efde-4d95-4bfc-a047-76186c380f4b button.colab-df-convert');\n",
              "        buttonEl.style.display =\n",
              "          google.colab.kernel.accessAllowed ? 'block' : 'none';\n",
              "\n",
              "        async function convertToInteractive(key) {\n",
              "          const element = document.querySelector('#df-eba7efde-4d95-4bfc-a047-76186c380f4b');\n",
              "          const dataTable =\n",
              "            await google.colab.kernel.invokeFunction('convertToInteractive',\n",
              "                                                     [key], {});\n",
              "          if (!dataTable) return;\n",
              "\n",
              "          const docLinkHtml = 'Like what you see? Visit the ' +\n",
              "            '<a target=\"_blank\" href=https://colab.research.google.com/notebooks/data_table.ipynb>data table notebook</a>'\n",
              "            + ' to learn more about interactive tables.';\n",
              "          element.innerHTML = '';\n",
              "          dataTable['output_type'] = 'display_data';\n",
              "          await google.colab.output.renderOutput(dataTable, element);\n",
              "          const docLink = document.createElement('div');\n",
              "          docLink.innerHTML = docLinkHtml;\n",
              "          element.appendChild(docLink);\n",
              "        }\n",
              "      </script>\n",
              "    </div>\n",
              "  </div>\n",
              "  "
            ]
          },
          "metadata": {},
          "execution_count": 71
        }
      ]
    },
    {
      "cell_type": "code",
      "source": [
        "print(marks.shape)"
      ],
      "metadata": {
        "id": "0BFFPCnnPeEN"
      },
      "id": "0BFFPCnnPeEN",
      "execution_count": null,
      "outputs": []
    },
    {
      "cell_type": "code",
      "source": [
        "def video_axis(path):\n",
        "  from google.colab.patches import cv2_imshow\n",
        "  cap = cv2.VideoCapture(path)\n",
        "  i=0\n",
        "  image_files=[]\n",
        "  while(cap.isOpened()):\n",
        "      ret, frame = cap.read()\n",
        "      #cv2_imshow( frame)\n",
        "      landmark = detect_landmarks(frame)\n",
        "      #print(landmark)\n",
        "      #cv2.imwrite('kang'+str(i)+'.jpg',frame)\n",
        "      i+=1\n",
        "      \n",
        "      if landmark is not None:\n",
        "        nose_x= landmark['x32'].iloc[0]\n",
        "        nose_y= landmark['y32'].iloc[0]\n",
        "        pitch = model1.predict(landmark.values)\n",
        "        yaw = model2.predict(landmark.values)\n",
        "        roll = model3.predict(landmark.values)\n",
        "        frame1 = cv2.cvtColor(frame, cv2.COLOR_BGR2RGB) # convert to RGB format for matplotlib\n",
        "        pic=draw_axis(frame1, yaw, pitch, roll, nose_x,nose_y)\n",
        "        plt.imshow(pic)\n",
        "        plt.show()\n",
        "        plt.imsave('/content/images/'+str(i)+'.jpg', pic)\n",
        "        image_files.append('/content/images/'+str(i)+'.jpg')\n",
        "        print(image_files)\n",
        "      if cv2.waitKey(1) & 0xFF == ord('q'):\n",
        "          break\n",
        "\n",
        "  cap.release()\n",
        "  cv2.destroyAllWindows()\n",
        "  return image_files"
      ],
      "metadata": {
        "id": "DKuogIHPxSYb"
      },
      "id": "DKuogIHPxSYb",
      "execution_count": 79,
      "outputs": []
    },
    {
      "cell_type": "code",
      "source": [
        "image_files= video_axis('/content/stock-footage-nervous-young-handsome-man-waiting-for-somebody-sighing-over-white-background.mp4')"
      ],
      "metadata": {
        "id": "aO1hPHsqZOWR"
      },
      "id": "aO1hPHsqZOWR",
      "execution_count": null,
      "outputs": []
    },
    {
      "cell_type": "code",
      "source": [
        "image_files"
      ],
      "metadata": {
        "id": "tAdb-qFnfxoA",
        "outputId": "e966e547-2eb8-4793-a605-c083bebb3639",
        "colab": {
          "base_uri": "https://localhost:8080/"
        }
      },
      "id": "tAdb-qFnfxoA",
      "execution_count": 85,
      "outputs": [
        {
          "output_type": "execute_result",
          "data": {
            "text/plain": [
              "['/content/images/5.jpg',\n",
              " '/content/images/7.jpg',\n",
              " '/content/images/8.jpg',\n",
              " '/content/images/9.jpg',\n",
              " '/content/images/10.jpg',\n",
              " '/content/images/11.jpg',\n",
              " '/content/images/12.jpg',\n",
              " '/content/images/13.jpg',\n",
              " '/content/images/14.jpg',\n",
              " '/content/images/15.jpg',\n",
              " '/content/images/16.jpg',\n",
              " '/content/images/17.jpg',\n",
              " '/content/images/18.jpg',\n",
              " '/content/images/19.jpg',\n",
              " '/content/images/20.jpg',\n",
              " '/content/images/21.jpg',\n",
              " '/content/images/22.jpg',\n",
              " '/content/images/23.jpg',\n",
              " '/content/images/24.jpg',\n",
              " '/content/images/25.jpg',\n",
              " '/content/images/26.jpg',\n",
              " '/content/images/27.jpg',\n",
              " '/content/images/28.jpg',\n",
              " '/content/images/29.jpg',\n",
              " '/content/images/30.jpg',\n",
              " '/content/images/31.jpg',\n",
              " '/content/images/32.jpg',\n",
              " '/content/images/33.jpg',\n",
              " '/content/images/34.jpg',\n",
              " '/content/images/35.jpg',\n",
              " '/content/images/36.jpg',\n",
              " '/content/images/37.jpg',\n",
              " '/content/images/38.jpg',\n",
              " '/content/images/39.jpg',\n",
              " '/content/images/40.jpg',\n",
              " '/content/images/41.jpg',\n",
              " '/content/images/42.jpg',\n",
              " '/content/images/43.jpg',\n",
              " '/content/images/44.jpg',\n",
              " '/content/images/45.jpg',\n",
              " '/content/images/46.jpg',\n",
              " '/content/images/47.jpg',\n",
              " '/content/images/48.jpg',\n",
              " '/content/images/49.jpg',\n",
              " '/content/images/50.jpg',\n",
              " '/content/images/51.jpg',\n",
              " '/content/images/52.jpg',\n",
              " '/content/images/53.jpg',\n",
              " '/content/images/54.jpg',\n",
              " '/content/images/55.jpg',\n",
              " '/content/images/56.jpg',\n",
              " '/content/images/57.jpg',\n",
              " '/content/images/58.jpg',\n",
              " '/content/images/59.jpg',\n",
              " '/content/images/60.jpg',\n",
              " '/content/images/61.jpg',\n",
              " '/content/images/62.jpg',\n",
              " '/content/images/63.jpg',\n",
              " '/content/images/64.jpg',\n",
              " '/content/images/65.jpg',\n",
              " '/content/images/66.jpg',\n",
              " '/content/images/67.jpg',\n",
              " '/content/images/68.jpg',\n",
              " '/content/images/69.jpg',\n",
              " '/content/images/70.jpg',\n",
              " '/content/images/71.jpg',\n",
              " '/content/images/72.jpg',\n",
              " '/content/images/73.jpg',\n",
              " '/content/images/74.jpg',\n",
              " '/content/images/75.jpg',\n",
              " '/content/images/76.jpg',\n",
              " '/content/images/77.jpg',\n",
              " '/content/images/78.jpg',\n",
              " '/content/images/79.jpg',\n",
              " '/content/images/80.jpg',\n",
              " '/content/images/81.jpg',\n",
              " '/content/images/82.jpg',\n",
              " '/content/images/83.jpg',\n",
              " '/content/images/84.jpg',\n",
              " '/content/images/85.jpg',\n",
              " '/content/images/86.jpg',\n",
              " '/content/images/87.jpg',\n",
              " '/content/images/88.jpg',\n",
              " '/content/images/89.jpg',\n",
              " '/content/images/90.jpg',\n",
              " '/content/images/91.jpg',\n",
              " '/content/images/92.jpg',\n",
              " '/content/images/93.jpg',\n",
              " '/content/images/94.jpg',\n",
              " '/content/images/95.jpg',\n",
              " '/content/images/96.jpg',\n",
              " '/content/images/97.jpg',\n",
              " '/content/images/98.jpg',\n",
              " '/content/images/99.jpg',\n",
              " '/content/images/100.jpg',\n",
              " '/content/images/101.jpg',\n",
              " '/content/images/102.jpg',\n",
              " '/content/images/103.jpg',\n",
              " '/content/images/104.jpg',\n",
              " '/content/images/105.jpg',\n",
              " '/content/images/106.jpg',\n",
              " '/content/images/107.jpg',\n",
              " '/content/images/108.jpg',\n",
              " '/content/images/109.jpg',\n",
              " '/content/images/110.jpg',\n",
              " '/content/images/111.jpg',\n",
              " '/content/images/112.jpg']"
            ]
          },
          "metadata": {},
          "execution_count": 85
        }
      ]
    },
    {
      "cell_type": "code",
      "source": [
        "from sklearn.utils.validation import indexable\n",
        "##https://stackoverflow.com/questions/44947505/how-to-make-a-movie-out-of-images-in-python\n",
        "#https://stackoverflow.com/questions/70115576/trying-to-convert-frames-into-videos-from-multiple-folder-with-subfolders\n",
        "\n",
        "import os\n",
        "import moviepy.video.io.ImageSequenceClip\n",
        "fps=25\n",
        "\n",
        "clip = moviepy.video.io.ImageSequenceClip.ImageSequenceClip(image_files, fps=fps)\n",
        "clip.write_videofile('my_video.mp4')"
      ],
      "metadata": {
        "colab": {
          "base_uri": "https://localhost:8080/"
        },
        "id": "uSfDR7gz8g5_",
        "outputId": "4b10eb39-b748-402d-cca3-7edf78103ca2"
      },
      "id": "uSfDR7gz8g5_",
      "execution_count": 84,
      "outputs": [
        {
          "output_type": "stream",
          "name": "stdout",
          "text": [
            "[MoviePy] >>>> Building video my_video.mp4\n",
            "[MoviePy] Writing video my_video.mp4\n"
          ]
        },
        {
          "output_type": "stream",
          "name": "stderr",
          "text": [
            "100%|██████████| 108/108 [00:02<00:00, 44.29it/s]\n"
          ]
        },
        {
          "output_type": "stream",
          "name": "stdout",
          "text": [
            "[MoviePy] Done.\n",
            "[MoviePy] >>>> Video ready: my_video.mp4 \n",
            "\n"
          ]
        }
      ]
    },
    {
      "cell_type": "code",
      "source": [
        ""
      ],
      "metadata": {
        "id": "6gX39wnkgWLm"
      },
      "id": "6gX39wnkgWLm",
      "execution_count": null,
      "outputs": []
    }
  ],
  "metadata": {
    "kernelspec": {
      "display_name": "Python 3 (ipykernel)",
      "language": "python",
      "name": "python3"
    },
    "language_info": {
      "codemirror_mode": {
        "name": "ipython",
        "version": 3
      },
      "file_extension": ".py",
      "mimetype": "text/x-python",
      "name": "python",
      "nbconvert_exporter": "python",
      "pygments_lexer": "ipython3",
      "version": "3.9.12"
    },
    "colab": {
      "name": "head_pos_estimation ml.ipynb",
      "provenance": [],
      "collapsed_sections": []
    }
  },
  "nbformat": 4,
  "nbformat_minor": 5
}